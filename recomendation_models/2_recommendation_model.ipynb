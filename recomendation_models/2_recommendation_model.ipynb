{
 "cells": [
  {
   "cell_type": "code",
   "execution_count": 1,
   "metadata": {},
   "outputs": [],
   "source": [
    "# Dependencies\n",
    "import numpy as np\n",
    "from sklearn.feature_extraction.text import CountVectorizer\n",
    "from sklearn.preprocessing import Normalizer\n",
    "from sklearn.pipeline import make_pipeline\n",
    "from sklearn.metrics.pairwise import cosine_similarity\n",
    "import pandas as pd \n",
    "from sklearn.preprocessing import Normalizer\n",
    "from sklearn.preprocessing import normalize"
   ]
  },
  {
   "cell_type": "code",
   "execution_count": 2,
   "metadata": {},
   "outputs": [],
   "source": [
    "df = pd.read_csv(\"../db/nutrition.csv\")\n",
    "# df = pd.read_csv(\"nutrition.csv\", index_col =\"NDB_No\")"
   ]
  },
  {
   "cell_type": "code",
   "execution_count": 3,
   "metadata": {},
   "outputs": [
    {
     "data": {
      "text/html": [
       "<div>\n",
       "<style scoped>\n",
       "    .dataframe tbody tr th:only-of-type {\n",
       "        vertical-align: middle;\n",
       "    }\n",
       "\n",
       "    .dataframe tbody tr th {\n",
       "        vertical-align: top;\n",
       "    }\n",
       "\n",
       "    .dataframe thead th {\n",
       "        text-align: right;\n",
       "    }\n",
       "</style>\n",
       "<table border=\"1\" class=\"dataframe\">\n",
       "  <thead>\n",
       "    <tr style=\"text-align: right;\">\n",
       "      <th></th>\n",
       "      <th>NDB_No</th>\n",
       "      <th>Shrt_Desc</th>\n",
       "      <th>Water</th>\n",
       "      <th>Energy</th>\n",
       "      <th>Protein</th>\n",
       "      <th>Lipid_Total</th>\n",
       "      <th>Carbohydrate</th>\n",
       "      <th>Fiber</th>\n",
       "      <th>Sugar_Total</th>\n",
       "      <th>Calcium</th>\n",
       "      <th>...</th>\n",
       "      <th>Vitamin_K</th>\n",
       "      <th>FA_Sat_g</th>\n",
       "      <th>FA_Mono_g</th>\n",
       "      <th>FA_Poly_g</th>\n",
       "      <th>Cholestrol</th>\n",
       "      <th>Weight_grams</th>\n",
       "      <th>Weight_desc</th>\n",
       "      <th>GmWt_2</th>\n",
       "      <th>GmWt_Desc2</th>\n",
       "      <th>Refuse_Pct</th>\n",
       "    </tr>\n",
       "  </thead>\n",
       "  <tbody>\n",
       "    <tr>\n",
       "      <th>0</th>\n",
       "      <td>1001</td>\n",
       "      <td>BUTTER,WITH SALT</td>\n",
       "      <td>15.87</td>\n",
       "      <td>717</td>\n",
       "      <td>0.85</td>\n",
       "      <td>81.11</td>\n",
       "      <td>0.06</td>\n",
       "      <td>0.0</td>\n",
       "      <td>0.06</td>\n",
       "      <td>24</td>\n",
       "      <td>...</td>\n",
       "      <td>7.0</td>\n",
       "      <td>51.368</td>\n",
       "      <td>21.021</td>\n",
       "      <td>3.043</td>\n",
       "      <td>215</td>\n",
       "      <td>5.00</td>\n",
       "      <td>1 pat,  (1\" sq, 1/3\" high)</td>\n",
       "      <td>14.2</td>\n",
       "      <td>1 tbsp</td>\n",
       "      <td>0</td>\n",
       "    </tr>\n",
       "    <tr>\n",
       "      <th>1</th>\n",
       "      <td>1002</td>\n",
       "      <td>BUTTER,WHIPPED,W/ SALT</td>\n",
       "      <td>16.72</td>\n",
       "      <td>718</td>\n",
       "      <td>0.49</td>\n",
       "      <td>78.30</td>\n",
       "      <td>2.87</td>\n",
       "      <td>0.0</td>\n",
       "      <td>0.06</td>\n",
       "      <td>23</td>\n",
       "      <td>...</td>\n",
       "      <td>4.6</td>\n",
       "      <td>45.390</td>\n",
       "      <td>19.874</td>\n",
       "      <td>3.331</td>\n",
       "      <td>225</td>\n",
       "      <td>3.80</td>\n",
       "      <td>1 pat,  (1\" sq, 1/3\" high)</td>\n",
       "      <td>9.4</td>\n",
       "      <td>1 tbsp</td>\n",
       "      <td>0</td>\n",
       "    </tr>\n",
       "    <tr>\n",
       "      <th>2</th>\n",
       "      <td>1003</td>\n",
       "      <td>BUTTER OIL,ANHYDROUS</td>\n",
       "      <td>0.24</td>\n",
       "      <td>876</td>\n",
       "      <td>0.28</td>\n",
       "      <td>99.48</td>\n",
       "      <td>0.00</td>\n",
       "      <td>0.0</td>\n",
       "      <td>0.00</td>\n",
       "      <td>4</td>\n",
       "      <td>...</td>\n",
       "      <td>8.6</td>\n",
       "      <td>61.924</td>\n",
       "      <td>28.732</td>\n",
       "      <td>3.694</td>\n",
       "      <td>256</td>\n",
       "      <td>12.80</td>\n",
       "      <td>1 tbsp</td>\n",
       "      <td>205.0</td>\n",
       "      <td>1 cup</td>\n",
       "      <td>0</td>\n",
       "    </tr>\n",
       "    <tr>\n",
       "      <th>3</th>\n",
       "      <td>1004</td>\n",
       "      <td>CHEESE,BLUE</td>\n",
       "      <td>42.41</td>\n",
       "      <td>353</td>\n",
       "      <td>21.40</td>\n",
       "      <td>28.74</td>\n",
       "      <td>2.34</td>\n",
       "      <td>0.0</td>\n",
       "      <td>0.50</td>\n",
       "      <td>528</td>\n",
       "      <td>...</td>\n",
       "      <td>2.4</td>\n",
       "      <td>18.669</td>\n",
       "      <td>7.778</td>\n",
       "      <td>0.800</td>\n",
       "      <td>75</td>\n",
       "      <td>28.35</td>\n",
       "      <td>1 oz</td>\n",
       "      <td>17.0</td>\n",
       "      <td>1 cubic inch</td>\n",
       "      <td>0</td>\n",
       "    </tr>\n",
       "    <tr>\n",
       "      <th>4</th>\n",
       "      <td>1005</td>\n",
       "      <td>CHEESE,BRICK</td>\n",
       "      <td>41.11</td>\n",
       "      <td>371</td>\n",
       "      <td>23.24</td>\n",
       "      <td>29.68</td>\n",
       "      <td>2.79</td>\n",
       "      <td>0.0</td>\n",
       "      <td>0.51</td>\n",
       "      <td>674</td>\n",
       "      <td>...</td>\n",
       "      <td>2.5</td>\n",
       "      <td>18.764</td>\n",
       "      <td>8.598</td>\n",
       "      <td>0.784</td>\n",
       "      <td>94</td>\n",
       "      <td>132.00</td>\n",
       "      <td>1 cup, diced</td>\n",
       "      <td>113.0</td>\n",
       "      <td>1 cup, shredded</td>\n",
       "      <td>0</td>\n",
       "    </tr>\n",
       "  </tbody>\n",
       "</table>\n",
       "<p>5 rows × 52 columns</p>\n",
       "</div>"
      ],
      "text/plain": [
       "   NDB_No               Shrt_Desc  Water  Energy  Protein  Lipid_Total  \\\n",
       "0    1001        BUTTER,WITH SALT  15.87     717     0.85        81.11   \n",
       "1    1002  BUTTER,WHIPPED,W/ SALT  16.72     718     0.49        78.30   \n",
       "2    1003    BUTTER OIL,ANHYDROUS   0.24     876     0.28        99.48   \n",
       "3    1004             CHEESE,BLUE  42.41     353    21.40        28.74   \n",
       "4    1005            CHEESE,BRICK  41.11     371    23.24        29.68   \n",
       "\n",
       "   Carbohydrate  Fiber  Sugar_Total  Calcium  ...  Vitamin_K  FA_Sat_g  \\\n",
       "0          0.06    0.0         0.06       24  ...        7.0    51.368   \n",
       "1          2.87    0.0         0.06       23  ...        4.6    45.390   \n",
       "2          0.00    0.0         0.00        4  ...        8.6    61.924   \n",
       "3          2.34    0.0         0.50      528  ...        2.4    18.669   \n",
       "4          2.79    0.0         0.51      674  ...        2.5    18.764   \n",
       "\n",
       "   FA_Mono_g  FA_Poly_g  Cholestrol  Weight_grams                 Weight_desc  \\\n",
       "0     21.021      3.043         215          5.00  1 pat,  (1\" sq, 1/3\" high)   \n",
       "1     19.874      3.331         225          3.80  1 pat,  (1\" sq, 1/3\" high)   \n",
       "2     28.732      3.694         256         12.80                      1 tbsp   \n",
       "3      7.778      0.800          75         28.35                        1 oz   \n",
       "4      8.598      0.784          94        132.00                1 cup, diced   \n",
       "\n",
       "   GmWt_2       GmWt_Desc2  Refuse_Pct  \n",
       "0    14.2           1 tbsp           0  \n",
       "1     9.4           1 tbsp           0  \n",
       "2   205.0            1 cup           0  \n",
       "3    17.0     1 cubic inch           0  \n",
       "4   113.0  1 cup, shredded           0  \n",
       "\n",
       "[5 rows x 52 columns]"
      ]
     },
     "execution_count": 3,
     "metadata": {},
     "output_type": "execute_result"
    }
   ],
   "source": [
    "df.head()"
   ]
  },
  {
   "cell_type": "code",
   "execution_count": 4,
   "metadata": {},
   "outputs": [
    {
     "data": {
      "text/plain": [
       "Index(['NDB_No', 'Shrt_Desc', 'Water', 'Energy', 'Protein', 'Lipid_Total',\n",
       "       'Carbohydrate', 'Fiber', 'Sugar_Total', 'Calcium', 'Iron', 'Magnesium',\n",
       "       'Phosphorus', 'Potassium', 'Sodium', 'Zinc', 'Copper', 'Manganese',\n",
       "       'Selenium', 'Vitamin_C', 'Thiamin', 'Riboflavin', 'Niacin',\n",
       "       'Panto_Acid', 'Vitamin_B6', 'Folate_Total', 'Folic_Acid',\n",
       "       'Food_Folate_mcg', 'Folate_DFE_mcg', 'Choline_Tot_mg', 'Vitamin_B12',\n",
       "       'Vit_A_IU', 'Vitamin_A', 'Retinol', 'Alpha_Carot_mcg', 'Beta_Carot_mcg',\n",
       "       'Beta_Crypt_mcg', 'Lycopene_mcg', 'Lut_Zea_mcg', 'Vitamin_E',\n",
       "       'Vitamin_D', 'Vit_D_IU', 'Vitamin_K', 'FA_Sat_g', 'FA_Mono_g',\n",
       "       'FA_Poly_g', 'Cholestrol', 'Weight_grams', 'Weight_desc', 'GmWt_2',\n",
       "       'GmWt_Desc2', 'Refuse_Pct'],\n",
       "      dtype='object')"
      ]
     },
     "execution_count": 4,
     "metadata": {},
     "output_type": "execute_result"
    }
   ],
   "source": [
    "df.columns"
   ]
  },
  {
   "cell_type": "markdown",
   "metadata": {},
   "source": [
    "# Change the columns to per calorie value"
   ]
  },
  {
   "cell_type": "code",
   "execution_count": 5,
   "metadata": {},
   "outputs": [],
   "source": [
    "df[\"Protein/cal\"] = df[\"Protein\"] / df[\"Energy\"]\n",
    "df[\"Carbohydrtes/cal\"] = df[\"Carbohydrate\"] / df[\"Energy\"]\n",
    "df[\"Sodium/cal\"] = df[\"Sodium\"]/ df[\"Energy\"]\n",
    "df[\"Cholestrol/cal\"] = df[\"Cholestrol\"]/ df[\"Energy\"]\n",
    "df[\"Sugar/cal\"] = df[\"Sugar_Total\"]/ df[\"Energy\"]\n",
    "df[\"Calcium/cal\"] = df[\"Calcium\"]/ df[\"Energy\"]"
   ]
  },
  {
   "cell_type": "code",
   "execution_count": 6,
   "metadata": {},
   "outputs": [],
   "source": [
    "df_percalorie = df[[\"Shrt_Desc\", \"Protein/cal\", \"Carbohydrtes/cal\", \"Sodium/cal\", \"Cholestrol/cal\", \"Sugar/cal\", \"Calcium/cal\"]]"
   ]
  },
  {
   "cell_type": "code",
   "execution_count": 7,
   "metadata": {},
   "outputs": [
    {
     "data": {
      "text/html": [
       "<div>\n",
       "<style scoped>\n",
       "    .dataframe tbody tr th:only-of-type {\n",
       "        vertical-align: middle;\n",
       "    }\n",
       "\n",
       "    .dataframe tbody tr th {\n",
       "        vertical-align: top;\n",
       "    }\n",
       "\n",
       "    .dataframe thead th {\n",
       "        text-align: right;\n",
       "    }\n",
       "</style>\n",
       "<table border=\"1\" class=\"dataframe\">\n",
       "  <thead>\n",
       "    <tr style=\"text-align: right;\">\n",
       "      <th></th>\n",
       "      <th>Shrt_Desc</th>\n",
       "      <th>Protein/cal</th>\n",
       "      <th>Carbohydrtes/cal</th>\n",
       "      <th>Sodium/cal</th>\n",
       "      <th>Cholestrol/cal</th>\n",
       "      <th>Sugar/cal</th>\n",
       "      <th>Calcium/cal</th>\n",
       "    </tr>\n",
       "  </thead>\n",
       "  <tbody>\n",
       "    <tr>\n",
       "      <th>0</th>\n",
       "      <td>BUTTER,WITH SALT</td>\n",
       "      <td>0.001185</td>\n",
       "      <td>0.000084</td>\n",
       "      <td>0.896792</td>\n",
       "      <td>0.299861</td>\n",
       "      <td>0.000084</td>\n",
       "      <td>0.033473</td>\n",
       "    </tr>\n",
       "    <tr>\n",
       "      <th>1</th>\n",
       "      <td>BUTTER,WHIPPED,W/ SALT</td>\n",
       "      <td>0.000682</td>\n",
       "      <td>0.003997</td>\n",
       "      <td>0.811978</td>\n",
       "      <td>0.313370</td>\n",
       "      <td>0.000084</td>\n",
       "      <td>0.032033</td>\n",
       "    </tr>\n",
       "    <tr>\n",
       "      <th>2</th>\n",
       "      <td>BUTTER OIL,ANHYDROUS</td>\n",
       "      <td>0.000320</td>\n",
       "      <td>0.000000</td>\n",
       "      <td>0.002283</td>\n",
       "      <td>0.292237</td>\n",
       "      <td>0.000000</td>\n",
       "      <td>0.004566</td>\n",
       "    </tr>\n",
       "    <tr>\n",
       "      <th>3</th>\n",
       "      <td>CHEESE,BLUE</td>\n",
       "      <td>0.060623</td>\n",
       "      <td>0.006629</td>\n",
       "      <td>3.246459</td>\n",
       "      <td>0.212465</td>\n",
       "      <td>0.001416</td>\n",
       "      <td>1.495751</td>\n",
       "    </tr>\n",
       "    <tr>\n",
       "      <th>4</th>\n",
       "      <td>CHEESE,BRICK</td>\n",
       "      <td>0.062642</td>\n",
       "      <td>0.007520</td>\n",
       "      <td>1.509434</td>\n",
       "      <td>0.253369</td>\n",
       "      <td>0.001375</td>\n",
       "      <td>1.816712</td>\n",
       "    </tr>\n",
       "  </tbody>\n",
       "</table>\n",
       "</div>"
      ],
      "text/plain": [
       "                Shrt_Desc  Protein/cal  Carbohydrtes/cal  Sodium/cal  \\\n",
       "0        BUTTER,WITH SALT     0.001185          0.000084    0.896792   \n",
       "1  BUTTER,WHIPPED,W/ SALT     0.000682          0.003997    0.811978   \n",
       "2    BUTTER OIL,ANHYDROUS     0.000320          0.000000    0.002283   \n",
       "3             CHEESE,BLUE     0.060623          0.006629    3.246459   \n",
       "4            CHEESE,BRICK     0.062642          0.007520    1.509434   \n",
       "\n",
       "   Cholestrol/cal  Sugar/cal  Calcium/cal  \n",
       "0        0.299861   0.000084     0.033473  \n",
       "1        0.313370   0.000084     0.032033  \n",
       "2        0.292237   0.000000     0.004566  \n",
       "3        0.212465   0.001416     1.495751  \n",
       "4        0.253369   0.001375     1.816712  "
      ]
     },
     "execution_count": 7,
     "metadata": {},
     "output_type": "execute_result"
    }
   ],
   "source": [
    "df_percalorie.head()"
   ]
  },
  {
   "cell_type": "markdown",
   "metadata": {},
   "source": [
    "## Removing null values from dataframe"
   ]
  },
  {
   "cell_type": "code",
   "execution_count": 8,
   "metadata": {},
   "outputs": [
    {
     "data": {
      "text/plain": [
       "Shrt_Desc            0\n",
       "Protein/cal         36\n",
       "Carbohydrtes/cal    31\n",
       "Sodium/cal           9\n",
       "Cholestrol/cal      39\n",
       "Sugar/cal           38\n",
       "Calcium/cal         13\n",
       "dtype: int64"
      ]
     },
     "execution_count": 8,
     "metadata": {},
     "output_type": "execute_result"
    }
   ],
   "source": [
    "df_percalorie.isnull().sum()"
   ]
  },
  {
   "cell_type": "code",
   "execution_count": 9,
   "metadata": {},
   "outputs": [],
   "source": [
    "df_percalorie = df_percalorie.dropna(how='any',axis=0)"
   ]
  },
  {
   "cell_type": "code",
   "execution_count": 10,
   "metadata": {},
   "outputs": [
    {
     "data": {
      "text/plain": [
       "Shrt_Desc           0\n",
       "Protein/cal         0\n",
       "Carbohydrtes/cal    0\n",
       "Sodium/cal          0\n",
       "Cholestrol/cal      0\n",
       "Sugar/cal           0\n",
       "Calcium/cal         0\n",
       "dtype: int64"
      ]
     },
     "execution_count": 10,
     "metadata": {},
     "output_type": "execute_result"
    }
   ],
   "source": [
    "df_percalorie.isnull().sum()"
   ]
  },
  {
   "cell_type": "code",
   "execution_count": 11,
   "metadata": {},
   "outputs": [
    {
     "data": {
      "text/plain": [
       "(8751, 7)"
      ]
     },
     "execution_count": 11,
     "metadata": {},
     "output_type": "execute_result"
    }
   ],
   "source": [
    "df_percalorie.shape"
   ]
  },
  {
   "cell_type": "markdown",
   "metadata": {},
   "source": [
    "## Cosine similarity"
   ]
  },
  {
   "cell_type": "code",
   "execution_count": 12,
   "metadata": {},
   "outputs": [
    {
     "data": {
      "text/plain": [
       "Index(['Shrt_Desc', 'Protein/cal', 'Carbohydrtes/cal', 'Sodium/cal',\n",
       "       'Cholestrol/cal', 'Sugar/cal', 'Calcium/cal'],\n",
       "      dtype='object')"
      ]
     },
     "execution_count": 12,
     "metadata": {},
     "output_type": "execute_result"
    }
   ],
   "source": [
    "df_percalorie.columns"
   ]
  },
  {
   "cell_type": "code",
   "execution_count": 13,
   "metadata": {},
   "outputs": [],
   "source": [
    "X_nut = df_percalorie[['Protein/cal', 'Carbohydrtes/cal', 'Sodium/cal', 'Cholestrol/cal', 'Sugar/cal', 'Calcium/cal']].values"
   ]
  },
  {
   "cell_type": "code",
   "execution_count": 14,
   "metadata": {},
   "outputs": [],
   "source": [
    "X_norm = Normalizer().fit_transform(X_nut)"
   ]
  },
  {
   "cell_type": "code",
   "execution_count": 15,
   "metadata": {},
   "outputs": [
    {
     "name": "stdout",
     "output_type": "stream",
     "text": [
      "5009\n"
     ]
    }
   ],
   "source": [
    "# Find the index for search item\n",
    "print(int(df_percalorie[df_percalorie['Shrt_Desc']=='SOY PROT ISOLATE,K TYPE'].index.values))"
   ]
  },
  {
   "cell_type": "markdown",
   "metadata": {},
   "source": [
    "## Display list of 10 similar items"
   ]
  },
  {
   "cell_type": "code",
   "execution_count": 16,
   "metadata": {},
   "outputs": [],
   "source": [
    "# term = 'SOY PROT ISOLATE,K TYPE'"
   ]
  },
  {
   "cell_type": "code",
   "execution_count": 17,
   "metadata": {},
   "outputs": [],
   "source": [
    "# idx = int(df_percalorie[df_percalorie['Shrt_Desc']== term].index.values)"
   ]
  },
  {
   "cell_type": "code",
   "execution_count": 23,
   "metadata": {},
   "outputs": [
    {
     "data": {
      "text/plain": [
       "numpy.ndarray"
      ]
     },
     "execution_count": 23,
     "metadata": {},
     "output_type": "execute_result"
    }
   ],
   "source": [
    "type(X_norm[5009].reshape(1,-1))"
   ]
  },
  {
   "cell_type": "code",
   "execution_count": null,
   "metadata": {},
   "outputs": [],
   "source": []
  },
  {
   "cell_type": "code",
   "execution_count": 19,
   "metadata": {},
   "outputs": [],
   "source": [
    "# X_norm[idx].reshape(1,-1)"
   ]
  },
  {
   "cell_type": "code",
   "execution_count": 20,
   "metadata": {},
   "outputs": [],
   "source": [
    "# similarities = cosine_similarity(X_norm[idx].reshape(1,-1), X_norm)\n",
    "# k = 10\n",
    "# result = np.sort(np.argpartition(similarities[0], len(similarities[0]) - k)[-k:])\n",
    "\n",
    "# #idxmax = np.arange(start=simularities[0], stop = simularities[5] , step=1)\n",
    "# df_percalorie.iloc[result]"
   ]
  },
  {
   "cell_type": "code",
   "execution_count": 21,
   "metadata": {},
   "outputs": [
    {
     "name": "stdout",
     "output_type": "stream",
     "text": [
      "0                                        BUTTER,WITH SALT\n",
      "1                                  BUTTER,WHIPPED,W/ SALT\n",
      "141                          EGG,YOLK,RAW,FRZ,SALTED,PAST\n",
      "1068    CHICKEN,BROILERS OR FRYERS,SKN ONLY,CKD,ROTISS...\n",
      "1073    CHICKEN,BROILERS OR FRYERS,DRUMSTK,MEAT & SKN,...\n",
      "1081    CHICKEN,BROILER,ROTISSERIE,BBQ,DRUMSTK MEAT & SKN\n",
      "1082      CHICKEN,BROILER,ROTISSERIE,BBQ,THIGH MEAT & SKN\n",
      "1663                         PATE,LIVER,NOT SPECIFIED,CND\n",
      "5743                    CREAM PUFF SHELL,PREP FROM RECIPE\n",
      "6854                                MCDONALD'S,BIG BRKFST\n",
      "Name: Shrt_Desc, dtype: object\n"
     ]
    }
   ],
   "source": [
    "# Recommend 5 items similar to text in search string\n",
    "def similar_items(term):\n",
    "    idx = int(df_percalorie[df_percalorie['Shrt_Desc']== term].index.values)\n",
    "    simularities = cosine_similarity(X_norm[idx].reshape(1,-1), X_norm)\n",
    "    k = 10\n",
    "    result = np.sort(np.argpartition(simularities[0], len(simularities[0]) - k)[-k:])\n",
    "\n",
    "    #idxmax = np.arange(start=simularities[0], stop = simularities[5] , step=1)\n",
    "    return df_percalorie.iloc[result]\n",
    "if __name__ == \"__main__\":\n",
    "    term = \"BUTTER,WITH SALT\"\n",
    "    term1 = \"choclate cooies mnt\"\n",
    "    print(similar_items(term)[\"Shrt_Desc\"])"
   ]
  },
  {
   "cell_type": "markdown",
   "metadata": {},
   "source": [
    "# Trying out Cosine similarity for Food recommendation"
   ]
  },
  {
   "cell_type": "code",
   "execution_count": 6,
   "metadata": {},
   "outputs": [],
   "source": [
    "df_for_cluster = pd.read_csv(\"../db/nutrition_prediction.csv\")\n",
    "\n",
    "#drop the leaving agents as they cannot be consumed as food portions\n",
    "indices = [i for i in df_for_cluster.index if (i >= df_for_cluster.index[df_for_cluster[\"NDB_No\"] == 18369].values[0]) and ( i <= df_for_cluster.index[df_for_cluster[\"NDB_No\"] == 18375].values[0])]\n",
    "df_for_cluster = df_for_cluster.drop(indices, axis=0)\n",
    "\n",
    "# Dropped the baby food items\n",
    "df_for_cluster = df_for_cluster.drop(df_for_cluster.index[df_for_cluster[\"FdGrp_Cd\"] == 300], axis=0)\n",
    "\n",
    "# Dropped the spices from the table as they cannot be consumed as food portions\n",
    "df_for_cluster = df_for_cluster.drop(df_for_cluster.index[df_for_cluster[\"FdGrp_Cd\"] == 200], axis=0)"
   ]
  },
  {
   "cell_type": "code",
   "execution_count": 7,
   "metadata": {},
   "outputs": [],
   "source": [
    "# Recalculating the nutrients per calorie\n",
    "Required_columns = ['Calcium', 'Carbohydrate', 'Choline', 'Cobalamin_VB12', 'Copper',\n",
    "         'Fiber', 'Folate_VB9',  'Iron',\n",
    "       'Magnesium', 'Manganese',  'Niacin_VB3',\n",
    "       'Pantothenic_Acid_VB5', 'Phosphorus', 'Potassium', 'Protein',\n",
    "       'Pyridoxine_VB6', 'Riboflavin_VB2', 'Selenium',  'Sodium',\n",
    "       'Thiamine_VB1', 'Vitamin_A', 'Vitamin_C', 'Vitamin_D', 'Vitamin_E',\n",
    "       'Vitamin_K', 'Water',  'Zinc']"
   ]
  },
  {
   "cell_type": "code",
   "execution_count": 8,
   "metadata": {},
   "outputs": [],
   "source": [
    "for column in Required_columns:\n",
    "    df_for_cluster[f\"{column}/cal\"] = df_for_cluster[column]/df_for_cluster[\"Energy\"]\n",
    "\n",
    "df_for_cluster = df_for_cluster.dropna(how='any',axis=0)"
   ]
  },
  {
   "cell_type": "code",
   "execution_count": 77,
   "metadata": {},
   "outputs": [
    {
     "name": "stdout",
     "output_type": "stream",
     "text": [
      "[[ 0. ]\n",
      " [ 0. ]\n",
      " [ 0. ]\n",
      " ...\n",
      " [ 0. ]\n",
      " [ 0. ]\n",
      " [25.2]]\n"
     ]
    }
   ],
   "source": [
    "X_nut_vitD = df_for_cluster[['Vitamin_D']].values\n",
    "print(X_nut_vitD)"
   ]
  },
  {
   "cell_type": "code",
   "execution_count": 78,
   "metadata": {},
   "outputs": [
    {
     "name": "stdout",
     "output_type": "stream",
     "text": [
      "[[0.]\n",
      " [0.]\n",
      " [0.]\n",
      " ...\n",
      " [0.]\n",
      " [0.]\n",
      " [1.]]\n"
     ]
    }
   ],
   "source": [
    "X_norm_vitD = Normalizer().fit_transform(X_nut_vitD)\n",
    "print(X_norm_vitD)"
   ]
  },
  {
   "cell_type": "code",
   "execution_count": 79,
   "metadata": {},
   "outputs": [
    {
     "name": "stdout",
     "output_type": "stream",
     "text": [
      "[12.83]\n"
     ]
    }
   ],
   "source": [
    "input_vitD = np.array([12.83])\n",
    "print(input_vitD)"
   ]
  },
  {
   "cell_type": "code",
   "execution_count": 80,
   "metadata": {},
   "outputs": [
    {
     "name": "stdout",
     "output_type": "stream",
     "text": [
      "(1, 4523)\n"
     ]
    }
   ],
   "source": [
    "simularities = cosine_similarity(input_vitD.reshape(-1, 1), X_norm_vitD)\n",
    "print(simularities.shape)"
   ]
  },
  {
   "cell_type": "code",
   "execution_count": 81,
   "metadata": {},
   "outputs": [
    {
     "data": {
      "text/html": [
       "<div>\n",
       "<style scoped>\n",
       "    .dataframe tbody tr th:only-of-type {\n",
       "        vertical-align: middle;\n",
       "    }\n",
       "\n",
       "    .dataframe tbody tr th {\n",
       "        vertical-align: top;\n",
       "    }\n",
       "\n",
       "    .dataframe thead th {\n",
       "        text-align: right;\n",
       "    }\n",
       "</style>\n",
       "<table border=\"1\" class=\"dataframe\">\n",
       "  <thead>\n",
       "    <tr style=\"text-align: right;\">\n",
       "      <th></th>\n",
       "      <th>Shrt_Desc</th>\n",
       "      <th>Vitamin_D</th>\n",
       "    </tr>\n",
       "  </thead>\n",
       "  <tbody>\n",
       "    <tr>\n",
       "      <th>1971</th>\n",
       "      <td>CEREALS RTE,MALT-O-MEAL,GOLDEN PUFFS</td>\n",
       "      <td>3.8</td>\n",
       "    </tr>\n",
       "    <tr>\n",
       "      <th>1983</th>\n",
       "      <td>CEREALS RTE,RALSTON ENR WHEAT BRAN FLAKES</td>\n",
       "      <td>8.6</td>\n",
       "    </tr>\n",
       "    <tr>\n",
       "      <th>2291</th>\n",
       "      <td>ORANGE JUC,CHILLED,INCL FROM CONC,W/ ADDED CA ...</td>\n",
       "      <td>1.0</td>\n",
       "    </tr>\n",
       "    <tr>\n",
       "      <th>2456</th>\n",
       "      <td>ORANGE JUC,CHILLED,INCL FROM CONC,W/ ADD CA &amp; ...</td>\n",
       "      <td>1.0</td>\n",
       "    </tr>\n",
       "    <tr>\n",
       "      <th>2481</th>\n",
       "      <td>PORK,FRSH,COMP OF LEG,LOIN,SHLDR,&amp; SPARERIBS,L...</td>\n",
       "      <td>0.7</td>\n",
       "    </tr>\n",
       "    <tr>\n",
       "      <th>2488</th>\n",
       "      <td>PORK,FRSH,LEG (HAM),WHL,LN,RAW</td>\n",
       "      <td>0.6</td>\n",
       "    </tr>\n",
       "    <tr>\n",
       "      <th>3826</th>\n",
       "      <td>BEEF,BRISKET,WHL,LN&amp;FAT,0\"FAT,ALL GRDS,CKD,BRSD</td>\n",
       "      <td>0.3</td>\n",
       "    </tr>\n",
       "    <tr>\n",
       "      <th>5522</th>\n",
       "      <td>VEAL,LEG,TOP RND,CAP OFF,CUTLET,BNLESS,CKD,GRI...</td>\n",
       "      <td>0.6</td>\n",
       "    </tr>\n",
       "    <tr>\n",
       "      <th>5584</th>\n",
       "      <td>BREAD,EGG,TOASTED</td>\n",
       "      <td>0.5</td>\n",
       "    </tr>\n",
       "    <tr>\n",
       "      <th>5632</th>\n",
       "      <td>CAKE,CHERRY FUDGE W/CHOC FRSTNG</td>\n",
       "      <td>0.3</td>\n",
       "    </tr>\n",
       "    <tr>\n",
       "      <th>5636</th>\n",
       "      <td>CAKE,WHITE,PREP FROM RECIPE W/COCNT FRSTNG</td>\n",
       "      <td>0.2</td>\n",
       "    </tr>\n",
       "    <tr>\n",
       "      <th>5642</th>\n",
       "      <td>COFFEECAKE,CINN W/CRUMB TOPPING,DRY MIX,PREP</td>\n",
       "      <td>0.5</td>\n",
       "    </tr>\n",
       "    <tr>\n",
       "      <th>5649</th>\n",
       "      <td>CAKE,POUND,COMMLY PREP,BUTTER (INCLUDES FRSH &amp;...</td>\n",
       "      <td>0.8</td>\n",
       "    </tr>\n",
       "    <tr>\n",
       "      <th>5653</th>\n",
       "      <td>CAKE,SNACK CAKES,CREME-FILLED,SPONGE</td>\n",
       "      <td>0.1</td>\n",
       "    </tr>\n",
       "    <tr>\n",
       "      <th>5655</th>\n",
       "      <td>CAKE,SPONGE,COMMLY PREP</td>\n",
       "      <td>0.2</td>\n",
       "    </tr>\n",
       "    <tr>\n",
       "      <th>5659</th>\n",
       "      <td>CAKE,YEL,COMMLY PREP,W/ CHOC FRSTNG,IN-STORE B...</td>\n",
       "      <td>0.2</td>\n",
       "    </tr>\n",
       "    <tr>\n",
       "      <th>5660</th>\n",
       "      <td>CAKE,YEL,COMMLY PREP,W/VANILLA FRSTNG</td>\n",
       "      <td>0.4</td>\n",
       "    </tr>\n",
       "    <tr>\n",
       "      <th>5664</th>\n",
       "      <td>CHEESECAKE COMMLY PREP</td>\n",
       "      <td>0.5</td>\n",
       "    </tr>\n",
       "    <tr>\n",
       "      <th>5669</th>\n",
       "      <td>COOKIES,BUTTER,COMMLY PREP,ENR</td>\n",
       "      <td>0.4</td>\n",
       "    </tr>\n",
       "    <tr>\n",
       "      <th>5687</th>\n",
       "      <td>COOKIES,LADYFINGERS,W/LEMON JUC&amp;RIND</td>\n",
       "      <td>0.6</td>\n",
       "    </tr>\n",
       "    <tr>\n",
       "      <th>5714</th>\n",
       "      <td>COOKIES,SUGAR,PREP FROM RECIPE,MADE W/MARGARINE</td>\n",
       "      <td>0.5</td>\n",
       "    </tr>\n",
       "    <tr>\n",
       "      <th>5743</th>\n",
       "      <td>CREAM PUFF SHELL,PREP FROM RECIPE</td>\n",
       "      <td>1.4</td>\n",
       "    </tr>\n",
       "    <tr>\n",
       "      <th>5759</th>\n",
       "      <td>DOUGHNUTS, YEAST-LEAVENED, GLAZED, ENRICHED (I...</td>\n",
       "      <td>0.1</td>\n",
       "    </tr>\n",
       "    <tr>\n",
       "      <th>5777</th>\n",
       "      <td>MUFFINS,BLUEBERRY,COMMLY PREP (INCLUDES MINI-M...</td>\n",
       "      <td>0.1</td>\n",
       "    </tr>\n",
       "    <tr>\n",
       "      <th>8785</th>\n",
       "      <td>MACKEREL,SALTED</td>\n",
       "      <td>25.2</td>\n",
       "    </tr>\n",
       "  </tbody>\n",
       "</table>\n",
       "</div>"
      ],
      "text/plain": [
       "                                              Shrt_Desc  Vitamin_D\n",
       "1971               CEREALS RTE,MALT-O-MEAL,GOLDEN PUFFS        3.8\n",
       "1983          CEREALS RTE,RALSTON ENR WHEAT BRAN FLAKES        8.6\n",
       "2291  ORANGE JUC,CHILLED,INCL FROM CONC,W/ ADDED CA ...        1.0\n",
       "2456  ORANGE JUC,CHILLED,INCL FROM CONC,W/ ADD CA & ...        1.0\n",
       "2481  PORK,FRSH,COMP OF LEG,LOIN,SHLDR,& SPARERIBS,L...        0.7\n",
       "2488                     PORK,FRSH,LEG (HAM),WHL,LN,RAW        0.6\n",
       "3826    BEEF,BRISKET,WHL,LN&FAT,0\"FAT,ALL GRDS,CKD,BRSD        0.3\n",
       "5522  VEAL,LEG,TOP RND,CAP OFF,CUTLET,BNLESS,CKD,GRI...        0.6\n",
       "5584                                  BREAD,EGG,TOASTED        0.5\n",
       "5632                    CAKE,CHERRY FUDGE W/CHOC FRSTNG        0.3\n",
       "5636         CAKE,WHITE,PREP FROM RECIPE W/COCNT FRSTNG        0.2\n",
       "5642       COFFEECAKE,CINN W/CRUMB TOPPING,DRY MIX,PREP        0.5\n",
       "5649  CAKE,POUND,COMMLY PREP,BUTTER (INCLUDES FRSH &...        0.8\n",
       "5653               CAKE,SNACK CAKES,CREME-FILLED,SPONGE        0.1\n",
       "5655                            CAKE,SPONGE,COMMLY PREP        0.2\n",
       "5659  CAKE,YEL,COMMLY PREP,W/ CHOC FRSTNG,IN-STORE B...        0.2\n",
       "5660              CAKE,YEL,COMMLY PREP,W/VANILLA FRSTNG        0.4\n",
       "5664                             CHEESECAKE COMMLY PREP        0.5\n",
       "5669                     COOKIES,BUTTER,COMMLY PREP,ENR        0.4\n",
       "5687               COOKIES,LADYFINGERS,W/LEMON JUC&RIND        0.6\n",
       "5714    COOKIES,SUGAR,PREP FROM RECIPE,MADE W/MARGARINE        0.5\n",
       "5743                  CREAM PUFF SHELL,PREP FROM RECIPE        1.4\n",
       "5759  DOUGHNUTS, YEAST-LEAVENED, GLAZED, ENRICHED (I...        0.1\n",
       "5777  MUFFINS,BLUEBERRY,COMMLY PREP (INCLUDES MINI-M...        0.1\n",
       "8785                                    MACKEREL,SALTED       25.2"
      ]
     },
     "execution_count": 81,
     "metadata": {},
     "output_type": "execute_result"
    }
   ],
   "source": [
    "k = 25\n",
    "result = np.sort(np.argpartition(simularities[0], len(simularities[0]) - k)[-k:])\n",
    "df_result = df_for_cluster.iloc[result]\n",
    "df_result[[\"Shrt_Desc\", \"Vitamin_D\" ]]"
   ]
  },
  {
   "cell_type": "code",
   "execution_count": 90,
   "metadata": {},
   "outputs": [
    {
     "data": {
      "text/html": [
       "<div>\n",
       "<style scoped>\n",
       "    .dataframe tbody tr th:only-of-type {\n",
       "        vertical-align: middle;\n",
       "    }\n",
       "\n",
       "    .dataframe tbody tr th {\n",
       "        vertical-align: top;\n",
       "    }\n",
       "\n",
       "    .dataframe thead th {\n",
       "        text-align: right;\n",
       "    }\n",
       "</style>\n",
       "<table border=\"1\" class=\"dataframe\">\n",
       "  <thead>\n",
       "    <tr style=\"text-align: right;\">\n",
       "      <th></th>\n",
       "      <th>Shrt_Desc</th>\n",
       "      <th>Vitamin_D</th>\n",
       "    </tr>\n",
       "  </thead>\n",
       "  <tbody>\n",
       "    <tr>\n",
       "      <th>724</th>\n",
       "      <td>FISH OIL,COD LIVER</td>\n",
       "      <td>250.0</td>\n",
       "    </tr>\n",
       "    <tr>\n",
       "      <th>3546</th>\n",
       "      <td>MUSHROOMS,BROWN,ITALIAN,OR CRIMINI,EXPOSED TO ...</td>\n",
       "      <td>31.9</td>\n",
       "    </tr>\n",
       "    <tr>\n",
       "      <th>3604</th>\n",
       "      <td>MUSHROOMS,PORTABELLA,EXPOSED TO UV LT,RAW</td>\n",
       "      <td>28.4</td>\n",
       "    </tr>\n",
       "    <tr>\n",
       "      <th>3600</th>\n",
       "      <td>MUSHROOMS,MAITAKE,RAW</td>\n",
       "      <td>28.1</td>\n",
       "    </tr>\n",
       "    <tr>\n",
       "      <th>4519</th>\n",
       "      <td>HALIBUT,GREENLAND,RAW</td>\n",
       "      <td>27.4</td>\n",
       "    </tr>\n",
       "    <tr>\n",
       "      <th>3548</th>\n",
       "      <td>MUSHROOM,WHITE,EXPOSED TO UV LT,RAW</td>\n",
       "      <td>26.2</td>\n",
       "    </tr>\n",
       "    <tr>\n",
       "      <th>8785</th>\n",
       "      <td>MACKEREL,SALTED</td>\n",
       "      <td>25.2</td>\n",
       "    </tr>\n",
       "    <tr>\n",
       "      <th>4489</th>\n",
       "      <td>CARP,RAW</td>\n",
       "      <td>24.7</td>\n",
       "    </tr>\n",
       "    <tr>\n",
       "      <th>4506</th>\n",
       "      <td>EEL,MIXED SPECIES,RAW</td>\n",
       "      <td>23.3</td>\n",
       "    </tr>\n",
       "    <tr>\n",
       "      <th>4732</th>\n",
       "      <td>SALMON,SOCKEYE,CND,DRND SOL,WO/ SKN &amp; BONES</td>\n",
       "      <td>21.5</td>\n",
       "    </tr>\n",
       "    <tr>\n",
       "      <th>4568</th>\n",
       "      <td>FISH,SALMON,SOCKEYE,CND,DRND SOL</td>\n",
       "      <td>21.0</td>\n",
       "    </tr>\n",
       "    <tr>\n",
       "      <th>4728</th>\n",
       "      <td>SALMON,SOCKEYE,CND,TOTAL CAN CONTENTS</td>\n",
       "      <td>19.0</td>\n",
       "    </tr>\n",
       "    <tr>\n",
       "      <th>4718</th>\n",
       "      <td>TROUT,RAINBOW,FARMED,CKD,DRY HEAT</td>\n",
       "      <td>19.0</td>\n",
       "    </tr>\n",
       "    <tr>\n",
       "      <th>4558</th>\n",
       "      <td>SALMON,CHINOOK,SMOKED</td>\n",
       "      <td>17.1</td>\n",
       "    </tr>\n",
       "    <tr>\n",
       "      <th>4567</th>\n",
       "      <td>FISH,SALMON,SOCKEYE,CKD,DRY HEAT</td>\n",
       "      <td>16.7</td>\n",
       "    </tr>\n",
       "    <tr>\n",
       "      <th>4592</th>\n",
       "      <td>SWORDFISH,COOKED,DRY HEAT</td>\n",
       "      <td>16.6</td>\n",
       "    </tr>\n",
       "    <tr>\n",
       "      <th>4587</th>\n",
       "      <td>STURGEON,MXD SP,SMOKED</td>\n",
       "      <td>16.1</td>\n",
       "    </tr>\n",
       "    <tr>\n",
       "      <th>4527</th>\n",
       "      <td>MACKEREL,ATLANTIC,RAW</td>\n",
       "      <td>16.1</td>\n",
       "    </tr>\n",
       "    <tr>\n",
       "      <th>4717</th>\n",
       "      <td>TROUT,RAINBOW,FARMED,RAW</td>\n",
       "      <td>15.9</td>\n",
       "    </tr>\n",
       "    <tr>\n",
       "      <th>4729</th>\n",
       "      <td>FISH,SALMON,PINK,CND,DRND SOL</td>\n",
       "      <td>14.5</td>\n",
       "    </tr>\n",
       "    <tr>\n",
       "      <th>4566</th>\n",
       "      <td>FISH,SALMON,SOCKEYE,RAW</td>\n",
       "      <td>14.1</td>\n",
       "    </tr>\n",
       "    <tr>\n",
       "      <th>4733</th>\n",
       "      <td>FISH,SALMON,PINK,CND,DRND SOL,WO/ SKN &amp; BONES</td>\n",
       "      <td>14.1</td>\n",
       "    </tr>\n",
       "    <tr>\n",
       "      <th>4591</th>\n",
       "      <td>SWORDFISH,RAW</td>\n",
       "      <td>13.9</td>\n",
       "    </tr>\n",
       "    <tr>\n",
       "      <th>4565</th>\n",
       "      <td>FISH,SALMON,PINK,CND,TOTAL CAN CONTENTS</td>\n",
       "      <td>13.7</td>\n",
       "    </tr>\n",
       "    <tr>\n",
       "      <th>4495</th>\n",
       "      <td>CISCO,SMOKED</td>\n",
       "      <td>13.3</td>\n",
       "    </tr>\n",
       "    <tr>\n",
       "      <th>4714</th>\n",
       "      <td>SALMON,ATLANTIC,FARMED,CKD,DRY HEAT</td>\n",
       "      <td>13.1</td>\n",
       "    </tr>\n",
       "    <tr>\n",
       "      <th>4689</th>\n",
       "      <td>SALMON,PINK,CKD,DRY HEAT</td>\n",
       "      <td>13.0</td>\n",
       "    </tr>\n",
       "    <tr>\n",
       "      <th>4586</th>\n",
       "      <td>STURGEON,MXD SP,CKD,DRY HEAT</td>\n",
       "      <td>12.9</td>\n",
       "    </tr>\n",
       "    <tr>\n",
       "      <th>4609</th>\n",
       "      <td>WHITEFISH,MXD SP,SMOKED</td>\n",
       "      <td>12.8</td>\n",
       "    </tr>\n",
       "    <tr>\n",
       "      <th>4481</th>\n",
       "      <td>BEVERAGES,NUTRITIONAL SHAKE MIX,HI PROT,PDR</td>\n",
       "      <td>12.5</td>\n",
       "    </tr>\n",
       "    <tr>\n",
       "      <th>4491</th>\n",
       "      <td>CATFISH,CHANNEL,WILD,RAW</td>\n",
       "      <td>12.5</td>\n",
       "    </tr>\n",
       "    <tr>\n",
       "      <th>4553</th>\n",
       "      <td>ROE,MIXED SPECIES,RAW</td>\n",
       "      <td>12.1</td>\n",
       "    </tr>\n",
       "    <tr>\n",
       "      <th>4608</th>\n",
       "      <td>WHITEFISH,MXD SP,RAW</td>\n",
       "      <td>12.0</td>\n",
       "    </tr>\n",
       "    <tr>\n",
       "      <th>4678</th>\n",
       "      <td>MACKEREL,PACIFIC&amp;JACK,MXD SP,CKD,DRY HEAT</td>\n",
       "      <td>11.4</td>\n",
       "    </tr>\n",
       "    <tr>\n",
       "      <th>4724</th>\n",
       "      <td>SALMON,COHO,WILD,CKD,DRY HEAT</td>\n",
       "      <td>11.3</td>\n",
       "    </tr>\n",
       "    <tr>\n",
       "      <th>4713</th>\n",
       "      <td>SALMON,ATLANTIC,FARMED,RAW</td>\n",
       "      <td>11.0</td>\n",
       "    </tr>\n",
       "    <tr>\n",
       "      <th>84</th>\n",
       "      <td>MILK,DRY,NONFAT,INST,W/ ADDED VIT A &amp; VITAMIN D</td>\n",
       "      <td>11.0</td>\n",
       "    </tr>\n",
       "    <tr>\n",
       "      <th>136</th>\n",
       "      <td>MILK,DRY,NONFAT,REG,W/ ADDED VIT A &amp; VITAMIN D</td>\n",
       "      <td>11.0</td>\n",
       "    </tr>\n",
       "    <tr>\n",
       "      <th>4549</th>\n",
       "      <td>POMPANO,FLORIDA,RAW</td>\n",
       "      <td>11.0</td>\n",
       "    </tr>\n",
       "    <tr>\n",
       "      <th>4564</th>\n",
       "      <td>SALMON,PINK,RAW</td>\n",
       "      <td>10.9</td>\n",
       "    </tr>\n",
       "    <tr>\n",
       "      <th>808</th>\n",
       "      <td>MARGARINE,REG,80% FAT,COMP,STK,WO/ SALT,W/ ADD...</td>\n",
       "      <td>10.7</td>\n",
       "    </tr>\n",
       "    <tr>\n",
       "      <th>803</th>\n",
       "      <td>MARGARINE,REG,80% FAT,COMP,STK,W/ SALT,W/ ADDE...</td>\n",
       "      <td>10.7</td>\n",
       "    </tr>\n",
       "    <tr>\n",
       "      <th>807</th>\n",
       "      <td>VEG-OIL SPRD,STICK/TUB/BOTTLE,60% FAT,W/ ADDED...</td>\n",
       "      <td>10.7</td>\n",
       "    </tr>\n",
       "    <tr>\n",
       "      <th>806</th>\n",
       "      <td>VEG OIL SPRD,60% FAT,TUB,W/ SALT,W/ ADDED VITA...</td>\n",
       "      <td>10.7</td>\n",
       "    </tr>\n",
       "    <tr>\n",
       "      <th>82</th>\n",
       "      <td>MILK,DRY,WHL,W/ ADDED VITAMIN D</td>\n",
       "      <td>10.5</td>\n",
       "    </tr>\n",
       "    <tr>\n",
       "      <th>125</th>\n",
       "      <td>EGG,YOLK,DRIED</td>\n",
       "      <td>10.4</td>\n",
       "    </tr>\n",
       "    <tr>\n",
       "      <th>4582</th>\n",
       "      <td>SNAPPER,MIXED SPECIES,RAW</td>\n",
       "      <td>10.2</td>\n",
       "    </tr>\n",
       "    <tr>\n",
       "      <th>4561</th>\n",
       "      <td>SALMON,CHUM,DRND SOL W/BONE</td>\n",
       "      <td>9.6</td>\n",
       "    </tr>\n",
       "    <tr>\n",
       "      <th>4350</th>\n",
       "      <td>BEVERAGES,OVALTINE,CHOC MALT PDR</td>\n",
       "      <td>9.1</td>\n",
       "    </tr>\n",
       "    <tr>\n",
       "      <th>4346</th>\n",
       "      <td>BEVERAGES,OVALTINE,CLASSIC MALT PDR</td>\n",
       "      <td>9.1</td>\n",
       "    </tr>\n",
       "  </tbody>\n",
       "</table>\n",
       "</div>"
      ],
      "text/plain": [
       "                                              Shrt_Desc  Vitamin_D\n",
       "724                                  FISH OIL,COD LIVER      250.0\n",
       "3546  MUSHROOMS,BROWN,ITALIAN,OR CRIMINI,EXPOSED TO ...       31.9\n",
       "3604          MUSHROOMS,PORTABELLA,EXPOSED TO UV LT,RAW       28.4\n",
       "3600                              MUSHROOMS,MAITAKE,RAW       28.1\n",
       "4519                              HALIBUT,GREENLAND,RAW       27.4\n",
       "3548                MUSHROOM,WHITE,EXPOSED TO UV LT,RAW       26.2\n",
       "8785                                    MACKEREL,SALTED       25.2\n",
       "4489                                           CARP,RAW       24.7\n",
       "4506                              EEL,MIXED SPECIES,RAW       23.3\n",
       "4732        SALMON,SOCKEYE,CND,DRND SOL,WO/ SKN & BONES       21.5\n",
       "4568                   FISH,SALMON,SOCKEYE,CND,DRND SOL       21.0\n",
       "4728              SALMON,SOCKEYE,CND,TOTAL CAN CONTENTS       19.0\n",
       "4718                  TROUT,RAINBOW,FARMED,CKD,DRY HEAT       19.0\n",
       "4558                              SALMON,CHINOOK,SMOKED       17.1\n",
       "4567                   FISH,SALMON,SOCKEYE,CKD,DRY HEAT       16.7\n",
       "4592                          SWORDFISH,COOKED,DRY HEAT       16.6\n",
       "4587                             STURGEON,MXD SP,SMOKED       16.1\n",
       "4527                              MACKEREL,ATLANTIC,RAW       16.1\n",
       "4717                           TROUT,RAINBOW,FARMED,RAW       15.9\n",
       "4729                      FISH,SALMON,PINK,CND,DRND SOL       14.5\n",
       "4566                            FISH,SALMON,SOCKEYE,RAW       14.1\n",
       "4733      FISH,SALMON,PINK,CND,DRND SOL,WO/ SKN & BONES       14.1\n",
       "4591                                      SWORDFISH,RAW       13.9\n",
       "4565            FISH,SALMON,PINK,CND,TOTAL CAN CONTENTS       13.7\n",
       "4495                                       CISCO,SMOKED       13.3\n",
       "4714                SALMON,ATLANTIC,FARMED,CKD,DRY HEAT       13.1\n",
       "4689                           SALMON,PINK,CKD,DRY HEAT       13.0\n",
       "4586                       STURGEON,MXD SP,CKD,DRY HEAT       12.9\n",
       "4609                            WHITEFISH,MXD SP,SMOKED       12.8\n",
       "4481        BEVERAGES,NUTRITIONAL SHAKE MIX,HI PROT,PDR       12.5\n",
       "4491                           CATFISH,CHANNEL,WILD,RAW       12.5\n",
       "4553                              ROE,MIXED SPECIES,RAW       12.1\n",
       "4608                               WHITEFISH,MXD SP,RAW       12.0\n",
       "4678          MACKEREL,PACIFIC&JACK,MXD SP,CKD,DRY HEAT       11.4\n",
       "4724                      SALMON,COHO,WILD,CKD,DRY HEAT       11.3\n",
       "4713                         SALMON,ATLANTIC,FARMED,RAW       11.0\n",
       "84      MILK,DRY,NONFAT,INST,W/ ADDED VIT A & VITAMIN D       11.0\n",
       "136      MILK,DRY,NONFAT,REG,W/ ADDED VIT A & VITAMIN D       11.0\n",
       "4549                                POMPANO,FLORIDA,RAW       11.0\n",
       "4564                                    SALMON,PINK,RAW       10.9\n",
       "808   MARGARINE,REG,80% FAT,COMP,STK,WO/ SALT,W/ ADD...       10.7\n",
       "803   MARGARINE,REG,80% FAT,COMP,STK,W/ SALT,W/ ADDE...       10.7\n",
       "807   VEG-OIL SPRD,STICK/TUB/BOTTLE,60% FAT,W/ ADDED...       10.7\n",
       "806   VEG OIL SPRD,60% FAT,TUB,W/ SALT,W/ ADDED VITA...       10.7\n",
       "82                      MILK,DRY,WHL,W/ ADDED VITAMIN D       10.5\n",
       "125                                      EGG,YOLK,DRIED       10.4\n",
       "4582                          SNAPPER,MIXED SPECIES,RAW       10.2\n",
       "4561                        SALMON,CHUM,DRND SOL W/BONE        9.6\n",
       "4350                   BEVERAGES,OVALTINE,CHOC MALT PDR        9.1\n",
       "4346                BEVERAGES,OVALTINE,CLASSIC MALT PDR        9.1"
      ]
     },
     "execution_count": 90,
     "metadata": {},
     "output_type": "execute_result"
    }
   ],
   "source": [
    "df_for_cluster_sorted = df_for_cluster.sort_values(by=['Vitamin_D'], ascending=False)\n",
    "df_for_cluster_sorted[[\"Shrt_Desc\", \"Vitamin_D\" ]].head(50)\n"
   ]
  },
  {
   "cell_type": "code",
   "execution_count": 31,
   "metadata": {},
   "outputs": [],
   "source": [
    "def Findtheclusters_sort(element, n_clus, isHigh, threshold):\n",
    "    \n",
    "    df_for_cluster_sorted = df_for_cluster.sort_values(by=element, ascending=False)\n",
    "\n",
    "    \n",
    "    if (isHigh):\n",
    "        if threshold > 0.25:\n",
    "            return df_for_cluster_sorted.iloc[:25,[0]].values.flatten()\n",
    "        else:\n",
    "            return df_for_cluster_sorted.iloc[25:100,[0]].values.flatten()\n",
    "    else:\n",
    "        return df_for_cluster_sorted.iloc[100:,[0]].values.flatten()"
   ]
  },
  {
   "cell_type": "code",
   "execution_count": 34,
   "metadata": {},
   "outputs": [
    {
     "name": "stdout",
     "output_type": "stream",
     "text": [
      "<class 'numpy.ndarray'>\n"
     ]
    },
    {
     "data": {
      "text/plain": [
       "4568"
      ]
     },
     "execution_count": 34,
     "metadata": {},
     "output_type": "execute_result"
    }
   ],
   "source": [
    "import random\n",
    "print(type(Findtheclusters_sort(['Vitamin_D'], 3, True, 0.26)))\n",
    "random.choice(Findtheclusters_sort(['Vitamin_D'], 3, True, 0.26))\n"
   ]
  },
  {
   "cell_type": "code",
   "execution_count": null,
   "metadata": {},
   "outputs": [],
   "source": [
    "target_nutrients_corrected = [14.00, 66.18, 4127.32, 2.04, 834.12]\n",
    "deficient_nutrients = ['Vitamin_D', 'Vitamin_C', 'Potassium', 'Cobalamin_VB12', 'Calcium']"
   ]
  },
  {
   "cell_type": "code",
   "execution_count": null,
   "metadata": {},
   "outputs": [],
   "source": [
    "def Score_for_basket(basket, target):\n",
    "    list_score = list()\n",
    "    for i in len(basket.index):\n",
    "        dummy_basket = basket.drop(index=i)\n",
    "        sum_of_nutrients = calcSum(dummy_basket)\n",
    "        total_score_rows = calcScore(target, sum_of_nutrients)\n",
    "        total_score_except_ith_basket = sum(total_score_rows)\n",
    "        list_score.append(total_score_except_ith_basket)\n",
    "    \n",
    "    return list_score\n",
    "        \n",
    "    "
   ]
  },
  {
   "cell_type": "code",
   "execution_count": null,
   "metadata": {},
   "outputs": [],
   "source": []
  }
 ],
 "metadata": {
  "kernelspec": {
   "display_name": "nlp_ml",
   "language": "python",
   "name": "nlp_ml"
  },
  "language_info": {
   "codemirror_mode": {
    "name": "ipython",
    "version": 3
   },
   "file_extension": ".py",
   "mimetype": "text/x-python",
   "name": "python",
   "nbconvert_exporter": "python",
   "pygments_lexer": "ipython3",
   "version": "3.7.3"
  }
 },
 "nbformat": 4,
 "nbformat_minor": 4
}
