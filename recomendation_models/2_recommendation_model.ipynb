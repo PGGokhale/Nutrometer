{
 "cells": [
  {
   "cell_type": "code",
   "execution_count": 1,
   "metadata": {},
   "outputs": [],
   "source": [
    "# Dependencies\n",
    "import numpy as np\n",
    "from sklearn.feature_extraction.text import CountVectorizer\n",
    "from sklearn.preprocessing import Normalizer\n",
    "from sklearn.pipeline import make_pipeline\n",
    "from sklearn.metrics.pairwise import cosine_similarity\n",
    "import pandas as pd \n",
    "from sklearn.preprocessing import Normalizer\n",
    "from sklearn.preprocessing import normalize"
   ]
  },
  {
   "cell_type": "code",
   "execution_count": 2,
   "metadata": {},
   "outputs": [],
   "source": [
    "df = pd.read_csv(\"../db/nutrition.csv\")\n",
    "# df = pd.read_csv(\"nutrition.csv\", index_col =\"NDB_No\")"
   ]
  },
  {
   "cell_type": "code",
   "execution_count": 3,
   "metadata": {},
   "outputs": [
    {
     "data": {
      "text/html": [
       "<div>\n",
       "<style scoped>\n",
       "    .dataframe tbody tr th:only-of-type {\n",
       "        vertical-align: middle;\n",
       "    }\n",
       "\n",
       "    .dataframe tbody tr th {\n",
       "        vertical-align: top;\n",
       "    }\n",
       "\n",
       "    .dataframe thead th {\n",
       "        text-align: right;\n",
       "    }\n",
       "</style>\n",
       "<table border=\"1\" class=\"dataframe\">\n",
       "  <thead>\n",
       "    <tr style=\"text-align: right;\">\n",
       "      <th></th>\n",
       "      <th>NDB_No</th>\n",
       "      <th>Shrt_Desc</th>\n",
       "      <th>Water</th>\n",
       "      <th>Energy</th>\n",
       "      <th>Protein</th>\n",
       "      <th>Lipid_Total</th>\n",
       "      <th>Carbohydrate</th>\n",
       "      <th>Fiber</th>\n",
       "      <th>Sugar_Total</th>\n",
       "      <th>Calcium</th>\n",
       "      <th>...</th>\n",
       "      <th>Vitamin_K</th>\n",
       "      <th>FA_Sat_g</th>\n",
       "      <th>FA_Mono_g</th>\n",
       "      <th>FA_Poly_g</th>\n",
       "      <th>Cholestrol</th>\n",
       "      <th>Weight_grams</th>\n",
       "      <th>Weight_desc</th>\n",
       "      <th>GmWt_2</th>\n",
       "      <th>GmWt_Desc2</th>\n",
       "      <th>Refuse_Pct</th>\n",
       "    </tr>\n",
       "  </thead>\n",
       "  <tbody>\n",
       "    <tr>\n",
       "      <th>0</th>\n",
       "      <td>1001</td>\n",
       "      <td>BUTTER,WITH SALT</td>\n",
       "      <td>15.87</td>\n",
       "      <td>717</td>\n",
       "      <td>0.85</td>\n",
       "      <td>81.11</td>\n",
       "      <td>0.06</td>\n",
       "      <td>0.0</td>\n",
       "      <td>0.06</td>\n",
       "      <td>24</td>\n",
       "      <td>...</td>\n",
       "      <td>7.0</td>\n",
       "      <td>51.368</td>\n",
       "      <td>21.021</td>\n",
       "      <td>3.043</td>\n",
       "      <td>215</td>\n",
       "      <td>5.00</td>\n",
       "      <td>1 pat,  (1\" sq, 1/3\" high)</td>\n",
       "      <td>14.2</td>\n",
       "      <td>1 tbsp</td>\n",
       "      <td>0</td>\n",
       "    </tr>\n",
       "    <tr>\n",
       "      <th>1</th>\n",
       "      <td>1002</td>\n",
       "      <td>BUTTER,WHIPPED,W/ SALT</td>\n",
       "      <td>16.72</td>\n",
       "      <td>718</td>\n",
       "      <td>0.49</td>\n",
       "      <td>78.30</td>\n",
       "      <td>2.87</td>\n",
       "      <td>0.0</td>\n",
       "      <td>0.06</td>\n",
       "      <td>23</td>\n",
       "      <td>...</td>\n",
       "      <td>4.6</td>\n",
       "      <td>45.390</td>\n",
       "      <td>19.874</td>\n",
       "      <td>3.331</td>\n",
       "      <td>225</td>\n",
       "      <td>3.80</td>\n",
       "      <td>1 pat,  (1\" sq, 1/3\" high)</td>\n",
       "      <td>9.4</td>\n",
       "      <td>1 tbsp</td>\n",
       "      <td>0</td>\n",
       "    </tr>\n",
       "    <tr>\n",
       "      <th>2</th>\n",
       "      <td>1003</td>\n",
       "      <td>BUTTER OIL,ANHYDROUS</td>\n",
       "      <td>0.24</td>\n",
       "      <td>876</td>\n",
       "      <td>0.28</td>\n",
       "      <td>99.48</td>\n",
       "      <td>0.00</td>\n",
       "      <td>0.0</td>\n",
       "      <td>0.00</td>\n",
       "      <td>4</td>\n",
       "      <td>...</td>\n",
       "      <td>8.6</td>\n",
       "      <td>61.924</td>\n",
       "      <td>28.732</td>\n",
       "      <td>3.694</td>\n",
       "      <td>256</td>\n",
       "      <td>12.80</td>\n",
       "      <td>1 tbsp</td>\n",
       "      <td>205.0</td>\n",
       "      <td>1 cup</td>\n",
       "      <td>0</td>\n",
       "    </tr>\n",
       "    <tr>\n",
       "      <th>3</th>\n",
       "      <td>1004</td>\n",
       "      <td>CHEESE,BLUE</td>\n",
       "      <td>42.41</td>\n",
       "      <td>353</td>\n",
       "      <td>21.40</td>\n",
       "      <td>28.74</td>\n",
       "      <td>2.34</td>\n",
       "      <td>0.0</td>\n",
       "      <td>0.50</td>\n",
       "      <td>528</td>\n",
       "      <td>...</td>\n",
       "      <td>2.4</td>\n",
       "      <td>18.669</td>\n",
       "      <td>7.778</td>\n",
       "      <td>0.800</td>\n",
       "      <td>75</td>\n",
       "      <td>28.35</td>\n",
       "      <td>1 oz</td>\n",
       "      <td>17.0</td>\n",
       "      <td>1 cubic inch</td>\n",
       "      <td>0</td>\n",
       "    </tr>\n",
       "    <tr>\n",
       "      <th>4</th>\n",
       "      <td>1005</td>\n",
       "      <td>CHEESE,BRICK</td>\n",
       "      <td>41.11</td>\n",
       "      <td>371</td>\n",
       "      <td>23.24</td>\n",
       "      <td>29.68</td>\n",
       "      <td>2.79</td>\n",
       "      <td>0.0</td>\n",
       "      <td>0.51</td>\n",
       "      <td>674</td>\n",
       "      <td>...</td>\n",
       "      <td>2.5</td>\n",
       "      <td>18.764</td>\n",
       "      <td>8.598</td>\n",
       "      <td>0.784</td>\n",
       "      <td>94</td>\n",
       "      <td>132.00</td>\n",
       "      <td>1 cup, diced</td>\n",
       "      <td>113.0</td>\n",
       "      <td>1 cup, shredded</td>\n",
       "      <td>0</td>\n",
       "    </tr>\n",
       "  </tbody>\n",
       "</table>\n",
       "<p>5 rows × 52 columns</p>\n",
       "</div>"
      ],
      "text/plain": [
       "   NDB_No               Shrt_Desc  Water  Energy  Protein  Lipid_Total  \\\n",
       "0    1001        BUTTER,WITH SALT  15.87     717     0.85        81.11   \n",
       "1    1002  BUTTER,WHIPPED,W/ SALT  16.72     718     0.49        78.30   \n",
       "2    1003    BUTTER OIL,ANHYDROUS   0.24     876     0.28        99.48   \n",
       "3    1004             CHEESE,BLUE  42.41     353    21.40        28.74   \n",
       "4    1005            CHEESE,BRICK  41.11     371    23.24        29.68   \n",
       "\n",
       "   Carbohydrate  Fiber  Sugar_Total  Calcium  ...  Vitamin_K  FA_Sat_g  \\\n",
       "0          0.06    0.0         0.06       24  ...        7.0    51.368   \n",
       "1          2.87    0.0         0.06       23  ...        4.6    45.390   \n",
       "2          0.00    0.0         0.00        4  ...        8.6    61.924   \n",
       "3          2.34    0.0         0.50      528  ...        2.4    18.669   \n",
       "4          2.79    0.0         0.51      674  ...        2.5    18.764   \n",
       "\n",
       "   FA_Mono_g  FA_Poly_g  Cholestrol  Weight_grams                 Weight_desc  \\\n",
       "0     21.021      3.043         215          5.00  1 pat,  (1\" sq, 1/3\" high)   \n",
       "1     19.874      3.331         225          3.80  1 pat,  (1\" sq, 1/3\" high)   \n",
       "2     28.732      3.694         256         12.80                      1 tbsp   \n",
       "3      7.778      0.800          75         28.35                        1 oz   \n",
       "4      8.598      0.784          94        132.00                1 cup, diced   \n",
       "\n",
       "   GmWt_2       GmWt_Desc2  Refuse_Pct  \n",
       "0    14.2           1 tbsp           0  \n",
       "1     9.4           1 tbsp           0  \n",
       "2   205.0            1 cup           0  \n",
       "3    17.0     1 cubic inch           0  \n",
       "4   113.0  1 cup, shredded           0  \n",
       "\n",
       "[5 rows x 52 columns]"
      ]
     },
     "execution_count": 3,
     "metadata": {},
     "output_type": "execute_result"
    }
   ],
   "source": [
    "df.head()"
   ]
  },
  {
   "cell_type": "code",
   "execution_count": 4,
   "metadata": {},
   "outputs": [],
   "source": [
    "# df.loc[1001]\n",
    "# df.loc[1129]"
   ]
  },
  {
   "cell_type": "code",
   "execution_count": 5,
   "metadata": {},
   "outputs": [
    {
     "data": {
      "text/plain": [
       "Index(['NDB_No', 'Shrt_Desc', 'Water', 'Energy', 'Protein', 'Lipid_Total',\n",
       "       'Carbohydrate', 'Fiber', 'Sugar_Total', 'Calcium', 'Iron', 'Magnesium',\n",
       "       'Phosphorus', 'Potassium', 'Sodium', 'Zinc', 'Copper', 'Manganese',\n",
       "       'Selenium', 'Vitamin_C', 'Thiamin', 'Riboflavin', 'Niacin',\n",
       "       'Panto_Acid', 'Vitamin_B6', 'Folate_Total', 'Folic_Acid',\n",
       "       'Food_Folate_mcg', 'Folate_DFE_mcg', 'Choline_Tot_mg', 'Vitamin_B12',\n",
       "       'Vit_A_IU', 'Vitamin_A', 'Retinol', 'Alpha_Carot_mcg', 'Beta_Carot_mcg',\n",
       "       'Beta_Crypt_mcg', 'Lycopene_mcg', 'Lut_Zea_mcg', 'Vitamin_E',\n",
       "       'Vitamin_D', 'Vit_D_IU', 'Vitamin_K', 'FA_Sat_g', 'FA_Mono_g',\n",
       "       'FA_Poly_g', 'Cholestrol', 'Weight_grams', 'Weight_desc', 'GmWt_2',\n",
       "       'GmWt_Desc2', 'Refuse_Pct'],\n",
       "      dtype='object')"
      ]
     },
     "execution_count": 5,
     "metadata": {},
     "output_type": "execute_result"
    }
   ],
   "source": [
    "df.columns"
   ]
  },
  {
   "cell_type": "code",
   "execution_count": 6,
   "metadata": {},
   "outputs": [],
   "source": [
    "# food_data = data.set_index('Shrt_Desc').T.to_dict()\n",
    "#food_data.keys()\n",
    "#X = [v for k,v in df.items()]\n",
    "# food_data\n",
    "#food_data.keys()\n",
    "# item_list = [i for i in food_data.keys()]\n",
    "# item_list[0]"
   ]
  },
  {
   "cell_type": "markdown",
   "metadata": {},
   "source": [
    "# Change the columns to per calorie value"
   ]
  },
  {
   "cell_type": "code",
   "execution_count": 7,
   "metadata": {},
   "outputs": [],
   "source": [
    "df[\"Protein/cal\"] = df[\"Protein\"] / df[\"Energy\"]\n",
    "df[\"Carbohydrtes/cal\"] = df[\"Carbohydrate\"] / df[\"Energy\"]\n",
    "df[\"Sodium/cal\"] = df[\"Sodium\"]/ df[\"Energy\"]\n",
    "df[\"Cholestrol/cal\"] = df[\"Cholestrol\"]/ df[\"Energy\"]\n",
    "df[\"Sugar/cal\"] = df[\"Sugar_Total\"]/ df[\"Energy\"]\n",
    "df[\"Calcium/cal\"] = df[\"Calcium\"]/ df[\"Energy\"]"
   ]
  },
  {
   "cell_type": "code",
   "execution_count": 8,
   "metadata": {},
   "outputs": [],
   "source": [
    "df_percalorie = df[[\"Shrt_Desc\", \"Protein/cal\", \"Carbohydrtes/cal\", \"Sodium/cal\", \"Cholestrol/cal\", \"Sugar/cal\", \"Calcium/cal\"]]"
   ]
  },
  {
   "cell_type": "code",
   "execution_count": 9,
   "metadata": {},
   "outputs": [],
   "source": [
    "#df_percalorie = df[[\"Shrt_Desc\", 'Protein_g', \"Protein/cal\"]]"
   ]
  },
  {
   "cell_type": "code",
   "execution_count": 10,
   "metadata": {},
   "outputs": [
    {
     "data": {
      "text/html": [
       "<div>\n",
       "<style scoped>\n",
       "    .dataframe tbody tr th:only-of-type {\n",
       "        vertical-align: middle;\n",
       "    }\n",
       "\n",
       "    .dataframe tbody tr th {\n",
       "        vertical-align: top;\n",
       "    }\n",
       "\n",
       "    .dataframe thead th {\n",
       "        text-align: right;\n",
       "    }\n",
       "</style>\n",
       "<table border=\"1\" class=\"dataframe\">\n",
       "  <thead>\n",
       "    <tr style=\"text-align: right;\">\n",
       "      <th></th>\n",
       "      <th>Shrt_Desc</th>\n",
       "      <th>Protein/cal</th>\n",
       "      <th>Carbohydrtes/cal</th>\n",
       "      <th>Sodium/cal</th>\n",
       "      <th>Cholestrol/cal</th>\n",
       "      <th>Sugar/cal</th>\n",
       "      <th>Calcium/cal</th>\n",
       "    </tr>\n",
       "  </thead>\n",
       "  <tbody>\n",
       "    <tr>\n",
       "      <th>0</th>\n",
       "      <td>BUTTER,WITH SALT</td>\n",
       "      <td>0.001185</td>\n",
       "      <td>0.000084</td>\n",
       "      <td>0.896792</td>\n",
       "      <td>0.299861</td>\n",
       "      <td>0.000084</td>\n",
       "      <td>0.033473</td>\n",
       "    </tr>\n",
       "    <tr>\n",
       "      <th>1</th>\n",
       "      <td>BUTTER,WHIPPED,W/ SALT</td>\n",
       "      <td>0.000682</td>\n",
       "      <td>0.003997</td>\n",
       "      <td>0.811978</td>\n",
       "      <td>0.313370</td>\n",
       "      <td>0.000084</td>\n",
       "      <td>0.032033</td>\n",
       "    </tr>\n",
       "    <tr>\n",
       "      <th>2</th>\n",
       "      <td>BUTTER OIL,ANHYDROUS</td>\n",
       "      <td>0.000320</td>\n",
       "      <td>0.000000</td>\n",
       "      <td>0.002283</td>\n",
       "      <td>0.292237</td>\n",
       "      <td>0.000000</td>\n",
       "      <td>0.004566</td>\n",
       "    </tr>\n",
       "    <tr>\n",
       "      <th>3</th>\n",
       "      <td>CHEESE,BLUE</td>\n",
       "      <td>0.060623</td>\n",
       "      <td>0.006629</td>\n",
       "      <td>3.246459</td>\n",
       "      <td>0.212465</td>\n",
       "      <td>0.001416</td>\n",
       "      <td>1.495751</td>\n",
       "    </tr>\n",
       "    <tr>\n",
       "      <th>4</th>\n",
       "      <td>CHEESE,BRICK</td>\n",
       "      <td>0.062642</td>\n",
       "      <td>0.007520</td>\n",
       "      <td>1.509434</td>\n",
       "      <td>0.253369</td>\n",
       "      <td>0.001375</td>\n",
       "      <td>1.816712</td>\n",
       "    </tr>\n",
       "  </tbody>\n",
       "</table>\n",
       "</div>"
      ],
      "text/plain": [
       "                Shrt_Desc  Protein/cal  Carbohydrtes/cal  Sodium/cal  \\\n",
       "0        BUTTER,WITH SALT     0.001185          0.000084    0.896792   \n",
       "1  BUTTER,WHIPPED,W/ SALT     0.000682          0.003997    0.811978   \n",
       "2    BUTTER OIL,ANHYDROUS     0.000320          0.000000    0.002283   \n",
       "3             CHEESE,BLUE     0.060623          0.006629    3.246459   \n",
       "4            CHEESE,BRICK     0.062642          0.007520    1.509434   \n",
       "\n",
       "   Cholestrol/cal  Sugar/cal  Calcium/cal  \n",
       "0        0.299861   0.000084     0.033473  \n",
       "1        0.313370   0.000084     0.032033  \n",
       "2        0.292237   0.000000     0.004566  \n",
       "3        0.212465   0.001416     1.495751  \n",
       "4        0.253369   0.001375     1.816712  "
      ]
     },
     "execution_count": 10,
     "metadata": {},
     "output_type": "execute_result"
    }
   ],
   "source": [
    "df_percalorie.head()"
   ]
  },
  {
   "cell_type": "markdown",
   "metadata": {},
   "source": [
    "## Removing null values from dataframe"
   ]
  },
  {
   "cell_type": "code",
   "execution_count": 11,
   "metadata": {},
   "outputs": [
    {
     "data": {
      "text/plain": [
       "Shrt_Desc            0\n",
       "Protein/cal         36\n",
       "Carbohydrtes/cal    31\n",
       "Sodium/cal           9\n",
       "Cholestrol/cal      39\n",
       "Sugar/cal           38\n",
       "Calcium/cal         13\n",
       "dtype: int64"
      ]
     },
     "execution_count": 11,
     "metadata": {},
     "output_type": "execute_result"
    }
   ],
   "source": [
    "df_percalorie.isnull().sum()"
   ]
  },
  {
   "cell_type": "code",
   "execution_count": 12,
   "metadata": {},
   "outputs": [],
   "source": [
    "df_percalorie = df_percalorie.dropna(how='any',axis=0)"
   ]
  },
  {
   "cell_type": "code",
   "execution_count": 13,
   "metadata": {},
   "outputs": [
    {
     "data": {
      "text/plain": [
       "Shrt_Desc           0\n",
       "Protein/cal         0\n",
       "Carbohydrtes/cal    0\n",
       "Sodium/cal          0\n",
       "Cholestrol/cal      0\n",
       "Sugar/cal           0\n",
       "Calcium/cal         0\n",
       "dtype: int64"
      ]
     },
     "execution_count": 13,
     "metadata": {},
     "output_type": "execute_result"
    }
   ],
   "source": [
    "df_percalorie.isnull().sum()"
   ]
  },
  {
   "cell_type": "code",
   "execution_count": 14,
   "metadata": {},
   "outputs": [
    {
     "data": {
      "text/plain": [
       "(8751, 7)"
      ]
     },
     "execution_count": 14,
     "metadata": {},
     "output_type": "execute_result"
    }
   ],
   "source": [
    "df_percalorie.shape"
   ]
  },
  {
   "cell_type": "markdown",
   "metadata": {},
   "source": [
    "## Cosine similarity"
   ]
  },
  {
   "cell_type": "code",
   "execution_count": 15,
   "metadata": {},
   "outputs": [
    {
     "data": {
      "text/plain": [
       "Index(['Shrt_Desc', 'Protein/cal', 'Carbohydrtes/cal', 'Sodium/cal',\n",
       "       'Cholestrol/cal', 'Sugar/cal', 'Calcium/cal'],\n",
       "      dtype='object')"
      ]
     },
     "execution_count": 15,
     "metadata": {},
     "output_type": "execute_result"
    }
   ],
   "source": [
    "df_percalorie.columns"
   ]
  },
  {
   "cell_type": "code",
   "execution_count": 16,
   "metadata": {},
   "outputs": [],
   "source": [
    "X = df_percalorie[['Protein/cal', 'Carbohydrtes/cal', 'Sodium/cal', 'Cholestrol/cal', 'Sugar/cal', 'Calcium/cal']].values"
   ]
  },
  {
   "cell_type": "code",
   "execution_count": 17,
   "metadata": {},
   "outputs": [],
   "source": [
    "# X = df_percalorie[['Protein/cal']].values"
   ]
  },
  {
   "cell_type": "code",
   "execution_count": 18,
   "metadata": {},
   "outputs": [],
   "source": [
    "X_norm = Normalizer().fit_transform(X)"
   ]
  },
  {
   "cell_type": "code",
   "execution_count": 19,
   "metadata": {},
   "outputs": [],
   "source": [
    "# eggs\n",
    "# df_percalorie.loc[1129]"
   ]
  },
  {
   "cell_type": "code",
   "execution_count": 20,
   "metadata": {},
   "outputs": [
    {
     "name": "stdout",
     "output_type": "stream",
     "text": [
      "5009\n"
     ]
    }
   ],
   "source": [
    "# Find the index for search item\n",
    "print(int(df_percalorie[df_percalorie['Shrt_Desc']=='SOY PROT ISOLATE,K TYPE'].index.values))"
   ]
  },
  {
   "cell_type": "code",
   "execution_count": 21,
   "metadata": {},
   "outputs": [],
   "source": [
    "# X_norm[5009][0]"
   ]
  },
  {
   "cell_type": "code",
   "execution_count": 22,
   "metadata": {},
   "outputs": [],
   "source": [
    "# food with max protein values\n",
    "# df_sort = df_percalorie.sort_values(\"Protein/cal\", ascending = False)\n",
    "# df_sort.head(10)"
   ]
  },
  {
   "cell_type": "code",
   "execution_count": 23,
   "metadata": {},
   "outputs": [],
   "source": [
    "# df_percalorie.loc[16422]"
   ]
  },
  {
   "cell_type": "code",
   "execution_count": 24,
   "metadata": {},
   "outputs": [],
   "source": [
    "# df_percalorie\n",
    "# NDB_No"
   ]
  },
  {
   "cell_type": "markdown",
   "metadata": {},
   "source": [
    "## Display list of 10 similar items"
   ]
  },
  {
   "cell_type": "code",
   "execution_count": 25,
   "metadata": {},
   "outputs": [],
   "source": [
    "# df_percalorie"
   ]
  },
  {
   "cell_type": "code",
   "execution_count": 26,
   "metadata": {},
   "outputs": [
    {
     "name": "stdout",
     "output_type": "stream",
     "text": [
      "5009\n"
     ]
    }
   ],
   "source": [
    "# X_norm[16422][0]\n",
    "# dfb = int(df_percalorie[df_percalorie['NDB_No']==16422].index[0])\n",
    "# dfb\n",
    "# dfbb = int(df[df['A']==8].index[0])\n",
    "print(int(df_percalorie[df_percalorie['Shrt_Desc']=='SOY PROT ISOLATE,K TYPE'].index.values))"
   ]
  },
  {
   "cell_type": "code",
   "execution_count": null,
   "metadata": {},
   "outputs": [],
   "source": []
  },
  {
   "cell_type": "code",
   "execution_count": 27,
   "metadata": {},
   "outputs": [],
   "source": [
    "# df.index[df['BoolCol']].tolist()"
   ]
  },
  {
   "cell_type": "code",
   "execution_count": 28,
   "metadata": {},
   "outputs": [],
   "source": [
    "# df_sort.head(10)"
   ]
  },
  {
   "cell_type": "code",
   "execution_count": null,
   "metadata": {},
   "outputs": [],
   "source": [
    "X_term = cv.transform([\"choclte chip sookies\"])"
   ]
  },
  {
   "cell_type": "code",
   "execution_count": 29,
   "metadata": {},
   "outputs": [
    {
     "data": {
      "text/html": [
       "<div>\n",
       "<style scoped>\n",
       "    .dataframe tbody tr th:only-of-type {\n",
       "        vertical-align: middle;\n",
       "    }\n",
       "\n",
       "    .dataframe tbody tr th {\n",
       "        vertical-align: top;\n",
       "    }\n",
       "\n",
       "    .dataframe thead th {\n",
       "        text-align: right;\n",
       "    }\n",
       "</style>\n",
       "<table border=\"1\" class=\"dataframe\">\n",
       "  <thead>\n",
       "    <tr style=\"text-align: right;\">\n",
       "      <th></th>\n",
       "      <th>Shrt_Desc</th>\n",
       "      <th>Protein/cal</th>\n",
       "      <th>Carbohydrtes/cal</th>\n",
       "      <th>Sodium/cal</th>\n",
       "      <th>Cholestrol/cal</th>\n",
       "      <th>Sugar/cal</th>\n",
       "      <th>Calcium/cal</th>\n",
       "    </tr>\n",
       "  </thead>\n",
       "  <tbody>\n",
       "    <tr>\n",
       "      <th>5021</th>\n",
       "      <td>LOMA LINDA TENDER ROUNDS W/ GRAVY,CND,UNPREP</td>\n",
       "      <td>0.112414</td>\n",
       "      <td>0.051034</td>\n",
       "      <td>3.055172</td>\n",
       "      <td>0.006897</td>\n",
       "      <td>0.006897</td>\n",
       "      <td>0.096552</td>\n",
       "    </tr>\n",
       "    <tr>\n",
       "      <th>5025</th>\n",
       "      <td>LOMA LINDA TENDER BITS,CND,UNPREP</td>\n",
       "      <td>0.111852</td>\n",
       "      <td>0.061481</td>\n",
       "      <td>4.540741</td>\n",
       "      <td>0.000000</td>\n",
       "      <td>0.004444</td>\n",
       "      <td>0.125926</td>\n",
       "    </tr>\n",
       "    <tr>\n",
       "      <th>5032</th>\n",
       "      <td>WORTHINGTON LOFAT VEJA-LINKS,CND,UNPREP</td>\n",
       "      <td>0.128455</td>\n",
       "      <td>0.034959</td>\n",
       "      <td>4.975610</td>\n",
       "      <td>0.016260</td>\n",
       "      <td>0.005691</td>\n",
       "      <td>0.162602</td>\n",
       "    </tr>\n",
       "    <tr>\n",
       "      <th>5034</th>\n",
       "      <td>WORTHINGTON PRIME STAKES,CND,UNPREP</td>\n",
       "      <td>0.075556</td>\n",
       "      <td>0.055556</td>\n",
       "      <td>3.555556</td>\n",
       "      <td>0.007407</td>\n",
       "      <td>0.002222</td>\n",
       "      <td>0.111111</td>\n",
       "    </tr>\n",
       "    <tr>\n",
       "      <th>5040</th>\n",
       "      <td>WORTHINGTON VEJA-LINKS,CND,UNPREP</td>\n",
       "      <td>0.094194</td>\n",
       "      <td>0.026452</td>\n",
       "      <td>3.419355</td>\n",
       "      <td>0.019355</td>\n",
       "      <td>0.003226</td>\n",
       "      <td>0.148387</td>\n",
       "    </tr>\n",
       "    <tr>\n",
       "      <th>5043</th>\n",
       "      <td>WORTHINGTON MEATLESS CORNED BF ROLL,FRZ,UNPREP</td>\n",
       "      <td>0.075918</td>\n",
       "      <td>0.040408</td>\n",
       "      <td>3.093878</td>\n",
       "      <td>0.004082</td>\n",
       "      <td>0.008571</td>\n",
       "      <td>0.097959</td>\n",
       "    </tr>\n",
       "    <tr>\n",
       "      <th>5046</th>\n",
       "      <td>WORTHINGTON PROSAGE LINKS,FRZ,UNPREP</td>\n",
       "      <td>0.141259</td>\n",
       "      <td>0.034965</td>\n",
       "      <td>5.727273</td>\n",
       "      <td>0.013986</td>\n",
       "      <td>0.005594</td>\n",
       "      <td>0.181818</td>\n",
       "    </tr>\n",
       "    <tr>\n",
       "      <th>5047</th>\n",
       "      <td>WORTHINGTON PROSAGE ROLL,FRZ,UNPREP</td>\n",
       "      <td>0.075096</td>\n",
       "      <td>0.022989</td>\n",
       "      <td>2.555556</td>\n",
       "      <td>0.007663</td>\n",
       "      <td>0.000766</td>\n",
       "      <td>0.107280</td>\n",
       "    </tr>\n",
       "    <tr>\n",
       "      <th>5050</th>\n",
       "      <td>WORTHINGTON STRIPPLES,FRZ,UNPREP</td>\n",
       "      <td>0.035838</td>\n",
       "      <td>0.041329</td>\n",
       "      <td>4.228324</td>\n",
       "      <td>0.005780</td>\n",
       "      <td>0.002312</td>\n",
       "      <td>0.121387</td>\n",
       "    </tr>\n",
       "    <tr>\n",
       "      <th>5054</th>\n",
       "      <td>MORNINGSTAR FARMS BRKFST SAUSAGE LINKS,FRZ,UNPREP</td>\n",
       "      <td>0.120755</td>\n",
       "      <td>0.042767</td>\n",
       "      <td>4.213836</td>\n",
       "      <td>0.012579</td>\n",
       "      <td>0.006289</td>\n",
       "      <td>0.163522</td>\n",
       "    </tr>\n",
       "  </tbody>\n",
       "</table>\n",
       "</div>"
      ],
      "text/plain": [
       "                                              Shrt_Desc  Protein/cal  \\\n",
       "5021       LOMA LINDA TENDER ROUNDS W/ GRAVY,CND,UNPREP     0.112414   \n",
       "5025                  LOMA LINDA TENDER BITS,CND,UNPREP     0.111852   \n",
       "5032            WORTHINGTON LOFAT VEJA-LINKS,CND,UNPREP     0.128455   \n",
       "5034                WORTHINGTON PRIME STAKES,CND,UNPREP     0.075556   \n",
       "5040                  WORTHINGTON VEJA-LINKS,CND,UNPREP     0.094194   \n",
       "5043     WORTHINGTON MEATLESS CORNED BF ROLL,FRZ,UNPREP     0.075918   \n",
       "5046               WORTHINGTON PROSAGE LINKS,FRZ,UNPREP     0.141259   \n",
       "5047                WORTHINGTON PROSAGE ROLL,FRZ,UNPREP     0.075096   \n",
       "5050                   WORTHINGTON STRIPPLES,FRZ,UNPREP     0.035838   \n",
       "5054  MORNINGSTAR FARMS BRKFST SAUSAGE LINKS,FRZ,UNPREP     0.120755   \n",
       "\n",
       "      Carbohydrtes/cal  Sodium/cal  Cholestrol/cal  Sugar/cal  Calcium/cal  \n",
       "5021          0.051034    3.055172        0.006897   0.006897     0.096552  \n",
       "5025          0.061481    4.540741        0.000000   0.004444     0.125926  \n",
       "5032          0.034959    4.975610        0.016260   0.005691     0.162602  \n",
       "5034          0.055556    3.555556        0.007407   0.002222     0.111111  \n",
       "5040          0.026452    3.419355        0.019355   0.003226     0.148387  \n",
       "5043          0.040408    3.093878        0.004082   0.008571     0.097959  \n",
       "5046          0.034965    5.727273        0.013986   0.005594     0.181818  \n",
       "5047          0.022989    2.555556        0.007663   0.000766     0.107280  \n",
       "5050          0.041329    4.228324        0.005780   0.002312     0.121387  \n",
       "5054          0.042767    4.213836        0.012579   0.006289     0.163522  "
      ]
     },
     "execution_count": 29,
     "metadata": {},
     "output_type": "execute_result"
    }
   ],
   "source": [
    "similarities = cosine_similarity(X_norm[5009].reshape(1,-1), X_norm)\n",
    "k = 10\n",
    "result = np.sort(np.argpartition(similarities[0], len(similarities[0]) - k)[-k:])\n",
    "\n",
    "#idxmax = np.arange(start=simularities[0], stop = simularities[5] , step=1)\n",
    "df_percalorie.iloc[result]"
   ]
  },
  {
   "cell_type": "code",
   "execution_count": 30,
   "metadata": {},
   "outputs": [
    {
     "data": {
      "text/plain": [
       "array([4984, 4988, 4995, 4997, 5003, 5006, 5009, 5010, 5013, 5017],\n",
       "      dtype=int32)"
      ]
     },
     "execution_count": 30,
     "metadata": {},
     "output_type": "execute_result"
    }
   ],
   "source": [
    "np.sort(np.argpartition(similarities[0], len(similarities[0]) - k)[-k:])"
   ]
  },
  {
   "cell_type": "code",
   "execution_count": 31,
   "metadata": {},
   "outputs": [
    {
     "data": {
      "text/plain": [
       "array([4984, 4988, 4995, 4997, 5003, 5006, 5009, 5010, 5013, 5017],\n",
       "      dtype=int32)"
      ]
     },
     "execution_count": 31,
     "metadata": {},
     "output_type": "execute_result"
    }
   ],
   "source": [
    "result"
   ]
  },
  {
   "cell_type": "code",
   "execution_count": 32,
   "metadata": {},
   "outputs": [
    {
     "data": {
      "text/plain": [
       "array([0.94893456, 0.93361018, 0.01076693, ..., 0.49341898, 0.8034373 ,\n",
       "       0.49374694])"
      ]
     },
     "execution_count": 32,
     "metadata": {},
     "output_type": "execute_result"
    }
   ],
   "source": [
    "similarities[0]"
   ]
  },
  {
   "cell_type": "code",
   "execution_count": null,
   "metadata": {},
   "outputs": [],
   "source": [
    "# Recommend 5 items similar to text in search string\n",
    "def similar_items(term):\n",
    "    X_term = cv.transform([term])\n",
    "    simularities = cosine_similarity(X_term, X)\n",
    "    k = 10\n",
    "    result = np.sort(np.argpartition(simularities[0], len(simularities[0]) - k)[-k:])\n",
    "\n",
    "    #idxmax = np.arange(start=simularities[0], stop = simularities[5] , step=1)\n",
    "    return df.loc[result]\n",
    "if __name__ == \"__main__\":\n",
    "    term = \"egg\"\n",
    "    term1 = \"choclate cooies mnt\"\n",
    "    print(advanced_search(term)[\"Shrt_Desc\"])"
   ]
  },
  {
   "cell_type": "code",
   "execution_count": 35,
   "metadata": {},
   "outputs": [],
   "source": [
    "# df = pd.DataFrame({\n",
    "#     \"eggs\": [1, 2, 3, 5],\n",
    "#     \"bacon\": [12, 123, 3, 5],\n",
    "#     \"spam\": [12, 23, 4, 5]\n",
    "# })\n",
    "# # index 0 eggs, 1 bacon, 2 spam\n",
    "# X_norm = Normalize().fit_transform(X)\n",
    "# cosine_simularity(X_norm[0], X_norm[~0])\n",
    "# X_norm[~0].dot(X_norm[0].T)\n",
    "# X_sim = X_norm.dot(X_norm.T)\n",
    "# [\n",
    "#     [.123, 1, 1],\n",
    "#     [.240, 1, *],\n",
    "#     [1, *, *]\n",
    "# ]\n",
    "# sim_eggs = X_sim[0]\n",
    "# # search for the index that is closest but not the egg index"
   ]
  },
  {
   "cell_type": "code",
   "execution_count": null,
   "metadata": {},
   "outputs": [],
   "source": []
  }
 ],
 "metadata": {
  "kernelspec": {
   "display_name": "ml_hw",
   "language": "python",
   "name": "ml_hw"
  },
  "language_info": {
   "codemirror_mode": {
    "name": "ipython",
    "version": 3
   },
   "file_extension": ".py",
   "mimetype": "text/x-python",
   "name": "python",
   "nbconvert_exporter": "python",
   "pygments_lexer": "ipython3",
   "version": "3.7.6"
  }
 },
 "nbformat": 4,
 "nbformat_minor": 4
}
