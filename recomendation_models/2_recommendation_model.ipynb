{
 "cells": [
  {
   "cell_type": "code",
   "execution_count": 1,
   "metadata": {},
   "outputs": [],
   "source": [
    "# Dependencies\n",
    "import numpy as np\n",
    "from sklearn.feature_extraction.text import CountVectorizer\n",
    "from sklearn.preprocessing import Normalizer\n",
    "from sklearn.pipeline import make_pipeline\n",
    "from sklearn.metrics.pairwise import cosine_similarity\n",
    "import pandas as pd \n",
    "from sklearn.preprocessing import Normalizer\n",
    "from sklearn.preprocessing import normalize"
   ]
  },
  {
   "cell_type": "code",
   "execution_count": 2,
   "metadata": {},
   "outputs": [],
   "source": [
    "df = pd.read_csv(\"../db/nutrition.csv\")\n",
    "# df = pd.read_csv(\"nutrition.csv\", index_col =\"NDB_No\")"
   ]
  },
  {
   "cell_type": "code",
   "execution_count": 3,
   "metadata": {},
   "outputs": [
    {
     "data": {
      "text/html": [
       "<div>\n",
       "<style scoped>\n",
       "    .dataframe tbody tr th:only-of-type {\n",
       "        vertical-align: middle;\n",
       "    }\n",
       "\n",
       "    .dataframe tbody tr th {\n",
       "        vertical-align: top;\n",
       "    }\n",
       "\n",
       "    .dataframe thead th {\n",
       "        text-align: right;\n",
       "    }\n",
       "</style>\n",
       "<table border=\"1\" class=\"dataframe\">\n",
       "  <thead>\n",
       "    <tr style=\"text-align: right;\">\n",
       "      <th></th>\n",
       "      <th>NDB_No</th>\n",
       "      <th>Shrt_Desc</th>\n",
       "      <th>Water</th>\n",
       "      <th>Energy</th>\n",
       "      <th>Protein</th>\n",
       "      <th>Lipid_Total</th>\n",
       "      <th>Carbohydrate</th>\n",
       "      <th>Fiber</th>\n",
       "      <th>Sugar_Total</th>\n",
       "      <th>Calcium</th>\n",
       "      <th>...</th>\n",
       "      <th>Vitamin_K</th>\n",
       "      <th>FA_Sat_g</th>\n",
       "      <th>FA_Mono_g</th>\n",
       "      <th>FA_Poly_g</th>\n",
       "      <th>Cholestrol</th>\n",
       "      <th>Weight_grams</th>\n",
       "      <th>Weight_desc</th>\n",
       "      <th>GmWt_2</th>\n",
       "      <th>GmWt_Desc2</th>\n",
       "      <th>Refuse_Pct</th>\n",
       "    </tr>\n",
       "  </thead>\n",
       "  <tbody>\n",
       "    <tr>\n",
       "      <th>0</th>\n",
       "      <td>1001</td>\n",
       "      <td>BUTTER,WITH SALT</td>\n",
       "      <td>15.87</td>\n",
       "      <td>717</td>\n",
       "      <td>0.85</td>\n",
       "      <td>81.11</td>\n",
       "      <td>0.06</td>\n",
       "      <td>0.0</td>\n",
       "      <td>0.06</td>\n",
       "      <td>24</td>\n",
       "      <td>...</td>\n",
       "      <td>7.0</td>\n",
       "      <td>51.368</td>\n",
       "      <td>21.021</td>\n",
       "      <td>3.043</td>\n",
       "      <td>215</td>\n",
       "      <td>5.00</td>\n",
       "      <td>1 pat,  (1\" sq, 1/3\" high)</td>\n",
       "      <td>14.2</td>\n",
       "      <td>1 tbsp</td>\n",
       "      <td>0</td>\n",
       "    </tr>\n",
       "    <tr>\n",
       "      <th>1</th>\n",
       "      <td>1002</td>\n",
       "      <td>BUTTER,WHIPPED,W/ SALT</td>\n",
       "      <td>16.72</td>\n",
       "      <td>718</td>\n",
       "      <td>0.49</td>\n",
       "      <td>78.30</td>\n",
       "      <td>2.87</td>\n",
       "      <td>0.0</td>\n",
       "      <td>0.06</td>\n",
       "      <td>23</td>\n",
       "      <td>...</td>\n",
       "      <td>4.6</td>\n",
       "      <td>45.390</td>\n",
       "      <td>19.874</td>\n",
       "      <td>3.331</td>\n",
       "      <td>225</td>\n",
       "      <td>3.80</td>\n",
       "      <td>1 pat,  (1\" sq, 1/3\" high)</td>\n",
       "      <td>9.4</td>\n",
       "      <td>1 tbsp</td>\n",
       "      <td>0</td>\n",
       "    </tr>\n",
       "    <tr>\n",
       "      <th>2</th>\n",
       "      <td>1003</td>\n",
       "      <td>BUTTER OIL,ANHYDROUS</td>\n",
       "      <td>0.24</td>\n",
       "      <td>876</td>\n",
       "      <td>0.28</td>\n",
       "      <td>99.48</td>\n",
       "      <td>0.00</td>\n",
       "      <td>0.0</td>\n",
       "      <td>0.00</td>\n",
       "      <td>4</td>\n",
       "      <td>...</td>\n",
       "      <td>8.6</td>\n",
       "      <td>61.924</td>\n",
       "      <td>28.732</td>\n",
       "      <td>3.694</td>\n",
       "      <td>256</td>\n",
       "      <td>12.80</td>\n",
       "      <td>1 tbsp</td>\n",
       "      <td>205.0</td>\n",
       "      <td>1 cup</td>\n",
       "      <td>0</td>\n",
       "    </tr>\n",
       "    <tr>\n",
       "      <th>3</th>\n",
       "      <td>1004</td>\n",
       "      <td>CHEESE,BLUE</td>\n",
       "      <td>42.41</td>\n",
       "      <td>353</td>\n",
       "      <td>21.40</td>\n",
       "      <td>28.74</td>\n",
       "      <td>2.34</td>\n",
       "      <td>0.0</td>\n",
       "      <td>0.50</td>\n",
       "      <td>528</td>\n",
       "      <td>...</td>\n",
       "      <td>2.4</td>\n",
       "      <td>18.669</td>\n",
       "      <td>7.778</td>\n",
       "      <td>0.800</td>\n",
       "      <td>75</td>\n",
       "      <td>28.35</td>\n",
       "      <td>1 oz</td>\n",
       "      <td>17.0</td>\n",
       "      <td>1 cubic inch</td>\n",
       "      <td>0</td>\n",
       "    </tr>\n",
       "    <tr>\n",
       "      <th>4</th>\n",
       "      <td>1005</td>\n",
       "      <td>CHEESE,BRICK</td>\n",
       "      <td>41.11</td>\n",
       "      <td>371</td>\n",
       "      <td>23.24</td>\n",
       "      <td>29.68</td>\n",
       "      <td>2.79</td>\n",
       "      <td>0.0</td>\n",
       "      <td>0.51</td>\n",
       "      <td>674</td>\n",
       "      <td>...</td>\n",
       "      <td>2.5</td>\n",
       "      <td>18.764</td>\n",
       "      <td>8.598</td>\n",
       "      <td>0.784</td>\n",
       "      <td>94</td>\n",
       "      <td>132.00</td>\n",
       "      <td>1 cup, diced</td>\n",
       "      <td>113.0</td>\n",
       "      <td>1 cup, shredded</td>\n",
       "      <td>0</td>\n",
       "    </tr>\n",
       "  </tbody>\n",
       "</table>\n",
       "<p>5 rows × 52 columns</p>\n",
       "</div>"
      ],
      "text/plain": [
       "   NDB_No               Shrt_Desc  Water  Energy  Protein  Lipid_Total  \\\n",
       "0    1001        BUTTER,WITH SALT  15.87     717     0.85        81.11   \n",
       "1    1002  BUTTER,WHIPPED,W/ SALT  16.72     718     0.49        78.30   \n",
       "2    1003    BUTTER OIL,ANHYDROUS   0.24     876     0.28        99.48   \n",
       "3    1004             CHEESE,BLUE  42.41     353    21.40        28.74   \n",
       "4    1005            CHEESE,BRICK  41.11     371    23.24        29.68   \n",
       "\n",
       "   Carbohydrate  Fiber  Sugar_Total  Calcium  ...  Vitamin_K  FA_Sat_g  \\\n",
       "0          0.06    0.0         0.06       24  ...        7.0    51.368   \n",
       "1          2.87    0.0         0.06       23  ...        4.6    45.390   \n",
       "2          0.00    0.0         0.00        4  ...        8.6    61.924   \n",
       "3          2.34    0.0         0.50      528  ...        2.4    18.669   \n",
       "4          2.79    0.0         0.51      674  ...        2.5    18.764   \n",
       "\n",
       "   FA_Mono_g  FA_Poly_g  Cholestrol  Weight_grams                 Weight_desc  \\\n",
       "0     21.021      3.043         215          5.00  1 pat,  (1\" sq, 1/3\" high)   \n",
       "1     19.874      3.331         225          3.80  1 pat,  (1\" sq, 1/3\" high)   \n",
       "2     28.732      3.694         256         12.80                      1 tbsp   \n",
       "3      7.778      0.800          75         28.35                        1 oz   \n",
       "4      8.598      0.784          94        132.00                1 cup, diced   \n",
       "\n",
       "   GmWt_2       GmWt_Desc2  Refuse_Pct  \n",
       "0    14.2           1 tbsp           0  \n",
       "1     9.4           1 tbsp           0  \n",
       "2   205.0            1 cup           0  \n",
       "3    17.0     1 cubic inch           0  \n",
       "4   113.0  1 cup, shredded           0  \n",
       "\n",
       "[5 rows x 52 columns]"
      ]
     },
     "execution_count": 3,
     "metadata": {},
     "output_type": "execute_result"
    }
   ],
   "source": [
    "df.head()"
   ]
  },
  {
   "cell_type": "code",
   "execution_count": 4,
   "metadata": {},
   "outputs": [
    {
     "data": {
      "text/plain": [
       "Index(['NDB_No', 'Shrt_Desc', 'Water', 'Energy', 'Protein', 'Lipid_Total',\n",
       "       'Carbohydrate', 'Fiber', 'Sugar_Total', 'Calcium', 'Iron', 'Magnesium',\n",
       "       'Phosphorus', 'Potassium', 'Sodium', 'Zinc', 'Copper', 'Manganese',\n",
       "       'Selenium', 'Vitamin_C', 'Thiamin', 'Riboflavin', 'Niacin',\n",
       "       'Panto_Acid', 'Vitamin_B6', 'Folate_Total', 'Folic_Acid',\n",
       "       'Food_Folate_mcg', 'Folate_DFE_mcg', 'Choline_Tot_mg', 'Vitamin_B12',\n",
       "       'Vit_A_IU', 'Vitamin_A', 'Retinol', 'Alpha_Carot_mcg', 'Beta_Carot_mcg',\n",
       "       'Beta_Crypt_mcg', 'Lycopene_mcg', 'Lut_Zea_mcg', 'Vitamin_E',\n",
       "       'Vitamin_D', 'Vit_D_IU', 'Vitamin_K', 'FA_Sat_g', 'FA_Mono_g',\n",
       "       'FA_Poly_g', 'Cholestrol', 'Weight_grams', 'Weight_desc', 'GmWt_2',\n",
       "       'GmWt_Desc2', 'Refuse_Pct'],\n",
       "      dtype='object')"
      ]
     },
     "execution_count": 4,
     "metadata": {},
     "output_type": "execute_result"
    }
   ],
   "source": [
    "df.columns"
   ]
  },
  {
   "cell_type": "markdown",
   "metadata": {},
   "source": [
    "# Change the columns to per calorie value"
   ]
  },
  {
   "cell_type": "code",
   "execution_count": 5,
   "metadata": {},
   "outputs": [],
   "source": [
    "df[\"Protein/cal\"] = df[\"Protein\"] / df[\"Energy\"]\n",
    "df[\"Carbohydrtes/cal\"] = df[\"Carbohydrate\"] / df[\"Energy\"]\n",
    "df[\"Sodium/cal\"] = df[\"Sodium\"]/ df[\"Energy\"]\n",
    "df[\"Cholestrol/cal\"] = df[\"Cholestrol\"]/ df[\"Energy\"]\n",
    "df[\"Sugar/cal\"] = df[\"Sugar_Total\"]/ df[\"Energy\"]\n",
    "df[\"Calcium/cal\"] = df[\"Calcium\"]/ df[\"Energy\"]"
   ]
  },
  {
   "cell_type": "code",
   "execution_count": 6,
   "metadata": {},
   "outputs": [],
   "source": [
    "df_percalorie = df[[\"Shrt_Desc\", \"Protein/cal\", \"Carbohydrtes/cal\", \"Sodium/cal\", \"Cholestrol/cal\", \"Sugar/cal\", \"Calcium/cal\"]]"
   ]
  },
  {
   "cell_type": "code",
   "execution_count": 7,
   "metadata": {},
   "outputs": [
    {
     "data": {
      "text/html": [
       "<div>\n",
       "<style scoped>\n",
       "    .dataframe tbody tr th:only-of-type {\n",
       "        vertical-align: middle;\n",
       "    }\n",
       "\n",
       "    .dataframe tbody tr th {\n",
       "        vertical-align: top;\n",
       "    }\n",
       "\n",
       "    .dataframe thead th {\n",
       "        text-align: right;\n",
       "    }\n",
       "</style>\n",
       "<table border=\"1\" class=\"dataframe\">\n",
       "  <thead>\n",
       "    <tr style=\"text-align: right;\">\n",
       "      <th></th>\n",
       "      <th>Shrt_Desc</th>\n",
       "      <th>Protein/cal</th>\n",
       "      <th>Carbohydrtes/cal</th>\n",
       "      <th>Sodium/cal</th>\n",
       "      <th>Cholestrol/cal</th>\n",
       "      <th>Sugar/cal</th>\n",
       "      <th>Calcium/cal</th>\n",
       "    </tr>\n",
       "  </thead>\n",
       "  <tbody>\n",
       "    <tr>\n",
       "      <th>0</th>\n",
       "      <td>BUTTER,WITH SALT</td>\n",
       "      <td>0.001185</td>\n",
       "      <td>0.000084</td>\n",
       "      <td>0.896792</td>\n",
       "      <td>0.299861</td>\n",
       "      <td>0.000084</td>\n",
       "      <td>0.033473</td>\n",
       "    </tr>\n",
       "    <tr>\n",
       "      <th>1</th>\n",
       "      <td>BUTTER,WHIPPED,W/ SALT</td>\n",
       "      <td>0.000682</td>\n",
       "      <td>0.003997</td>\n",
       "      <td>0.811978</td>\n",
       "      <td>0.313370</td>\n",
       "      <td>0.000084</td>\n",
       "      <td>0.032033</td>\n",
       "    </tr>\n",
       "    <tr>\n",
       "      <th>2</th>\n",
       "      <td>BUTTER OIL,ANHYDROUS</td>\n",
       "      <td>0.000320</td>\n",
       "      <td>0.000000</td>\n",
       "      <td>0.002283</td>\n",
       "      <td>0.292237</td>\n",
       "      <td>0.000000</td>\n",
       "      <td>0.004566</td>\n",
       "    </tr>\n",
       "    <tr>\n",
       "      <th>3</th>\n",
       "      <td>CHEESE,BLUE</td>\n",
       "      <td>0.060623</td>\n",
       "      <td>0.006629</td>\n",
       "      <td>3.246459</td>\n",
       "      <td>0.212465</td>\n",
       "      <td>0.001416</td>\n",
       "      <td>1.495751</td>\n",
       "    </tr>\n",
       "    <tr>\n",
       "      <th>4</th>\n",
       "      <td>CHEESE,BRICK</td>\n",
       "      <td>0.062642</td>\n",
       "      <td>0.007520</td>\n",
       "      <td>1.509434</td>\n",
       "      <td>0.253369</td>\n",
       "      <td>0.001375</td>\n",
       "      <td>1.816712</td>\n",
       "    </tr>\n",
       "  </tbody>\n",
       "</table>\n",
       "</div>"
      ],
      "text/plain": [
       "                Shrt_Desc  Protein/cal  Carbohydrtes/cal  Sodium/cal  \\\n",
       "0        BUTTER,WITH SALT     0.001185          0.000084    0.896792   \n",
       "1  BUTTER,WHIPPED,W/ SALT     0.000682          0.003997    0.811978   \n",
       "2    BUTTER OIL,ANHYDROUS     0.000320          0.000000    0.002283   \n",
       "3             CHEESE,BLUE     0.060623          0.006629    3.246459   \n",
       "4            CHEESE,BRICK     0.062642          0.007520    1.509434   \n",
       "\n",
       "   Cholestrol/cal  Sugar/cal  Calcium/cal  \n",
       "0        0.299861   0.000084     0.033473  \n",
       "1        0.313370   0.000084     0.032033  \n",
       "2        0.292237   0.000000     0.004566  \n",
       "3        0.212465   0.001416     1.495751  \n",
       "4        0.253369   0.001375     1.816712  "
      ]
     },
     "execution_count": 7,
     "metadata": {},
     "output_type": "execute_result"
    }
   ],
   "source": [
    "df_percalorie.head()"
   ]
  },
  {
   "cell_type": "markdown",
   "metadata": {},
   "source": [
    "## Removing null values from dataframe"
   ]
  },
  {
   "cell_type": "code",
   "execution_count": 8,
   "metadata": {},
   "outputs": [
    {
     "data": {
      "text/plain": [
       "Shrt_Desc            0\n",
       "Protein/cal         36\n",
       "Carbohydrtes/cal    31\n",
       "Sodium/cal           9\n",
       "Cholestrol/cal      39\n",
       "Sugar/cal           38\n",
       "Calcium/cal         13\n",
       "dtype: int64"
      ]
     },
     "execution_count": 8,
     "metadata": {},
     "output_type": "execute_result"
    }
   ],
   "source": [
    "df_percalorie.isnull().sum()"
   ]
  },
  {
   "cell_type": "code",
   "execution_count": 9,
   "metadata": {},
   "outputs": [],
   "source": [
    "df_percalorie = df_percalorie.dropna(how='any',axis=0)"
   ]
  },
  {
   "cell_type": "code",
   "execution_count": 10,
   "metadata": {},
   "outputs": [
    {
     "data": {
      "text/plain": [
       "Shrt_Desc           0\n",
       "Protein/cal         0\n",
       "Carbohydrtes/cal    0\n",
       "Sodium/cal          0\n",
       "Cholestrol/cal      0\n",
       "Sugar/cal           0\n",
       "Calcium/cal         0\n",
       "dtype: int64"
      ]
     },
     "execution_count": 10,
     "metadata": {},
     "output_type": "execute_result"
    }
   ],
   "source": [
    "df_percalorie.isnull().sum()"
   ]
  },
  {
   "cell_type": "code",
   "execution_count": 11,
   "metadata": {},
   "outputs": [
    {
     "data": {
      "text/plain": [
       "(8751, 7)"
      ]
     },
     "execution_count": 11,
     "metadata": {},
     "output_type": "execute_result"
    }
   ],
   "source": [
    "df_percalorie.shape"
   ]
  },
  {
   "cell_type": "markdown",
   "metadata": {},
   "source": [
    "## Cosine similarity"
   ]
  },
  {
   "cell_type": "code",
   "execution_count": 12,
   "metadata": {},
   "outputs": [
    {
     "data": {
      "text/plain": [
       "Index(['Shrt_Desc', 'Protein/cal', 'Carbohydrtes/cal', 'Sodium/cal',\n",
       "       'Cholestrol/cal', 'Sugar/cal', 'Calcium/cal'],\n",
       "      dtype='object')"
      ]
     },
     "execution_count": 12,
     "metadata": {},
     "output_type": "execute_result"
    }
   ],
   "source": [
    "df_percalorie.columns"
   ]
  },
  {
   "cell_type": "code",
   "execution_count": 13,
   "metadata": {},
   "outputs": [],
   "source": [
    "X_nut = df_percalorie[['Protein/cal', 'Carbohydrtes/cal', 'Sodium/cal', 'Cholestrol/cal', 'Sugar/cal', 'Calcium/cal']].values"
   ]
  },
  {
   "cell_type": "code",
   "execution_count": 14,
   "metadata": {},
   "outputs": [],
   "source": [
    "X_norm = Normalizer().fit_transform(X_nut)"
   ]
  },
  {
   "cell_type": "code",
   "execution_count": 15,
   "metadata": {},
   "outputs": [
    {
     "name": "stdout",
     "output_type": "stream",
     "text": [
      "5009\n"
     ]
    }
   ],
   "source": [
    "# Find the index for search item\n",
    "print(int(df_percalorie[df_percalorie['Shrt_Desc']=='SOY PROT ISOLATE,K TYPE'].index.values))"
   ]
  },
  {
   "cell_type": "markdown",
   "metadata": {},
   "source": [
    "## Display list of 10 similar items"
   ]
  },
  {
   "cell_type": "code",
   "execution_count": 16,
   "metadata": {},
   "outputs": [],
   "source": [
    "# term = 'SOY PROT ISOLATE,K TYPE'"
   ]
  },
  {
   "cell_type": "code",
   "execution_count": 17,
   "metadata": {},
   "outputs": [],
   "source": [
    "# idx = int(df_percalorie[df_percalorie['Shrt_Desc']== term].index.values)"
   ]
  },
  {
   "cell_type": "code",
   "execution_count": 18,
   "metadata": {},
   "outputs": [],
   "source": [
    "# X_norm[5009].reshape(1,-1)"
   ]
  },
  {
   "cell_type": "code",
   "execution_count": 19,
   "metadata": {},
   "outputs": [],
   "source": [
    "# X_norm[idx].reshape(1,-1)"
   ]
  },
  {
   "cell_type": "code",
   "execution_count": 20,
   "metadata": {},
   "outputs": [],
   "source": [
    "# similarities = cosine_similarity(X_norm[idx].reshape(1,-1), X_norm)\n",
    "# k = 10\n",
    "# result = np.sort(np.argpartition(similarities[0], len(similarities[0]) - k)[-k:])\n",
    "\n",
    "# #idxmax = np.arange(start=simularities[0], stop = simularities[5] , step=1)\n",
    "# df_percalorie.iloc[result]"
   ]
  },
  {
   "cell_type": "code",
   "execution_count": 21,
   "metadata": {},
   "outputs": [
    {
     "name": "stdout",
     "output_type": "stream",
     "text": [
      "0                                        BUTTER,WITH SALT\n",
      "1                                  BUTTER,WHIPPED,W/ SALT\n",
      "141                          EGG,YOLK,RAW,FRZ,SALTED,PAST\n",
      "1068    CHICKEN,BROILERS OR FRYERS,SKN ONLY,CKD,ROTISS...\n",
      "1073    CHICKEN,BROILERS OR FRYERS,DRUMSTK,MEAT & SKN,...\n",
      "1081    CHICKEN,BROILER,ROTISSERIE,BBQ,DRUMSTK MEAT & SKN\n",
      "1082      CHICKEN,BROILER,ROTISSERIE,BBQ,THIGH MEAT & SKN\n",
      "1663                         PATE,LIVER,NOT SPECIFIED,CND\n",
      "5743                    CREAM PUFF SHELL,PREP FROM RECIPE\n",
      "6854                                MCDONALD'S,BIG BRKFST\n",
      "Name: Shrt_Desc, dtype: object\n"
     ]
    }
   ],
   "source": [
    "# Recommend 5 items similar to text in search string\n",
    "def similar_items(term):\n",
    "    idx = int(df_percalorie[df_percalorie['Shrt_Desc']== term].index.values)\n",
    "    simularities = cosine_similarity(X_norm[idx].reshape(1,-1), X_norm)\n",
    "    k = 10\n",
    "    result = np.sort(np.argpartition(simularities[0], len(simularities[0]) - k)[-k:])\n",
    "\n",
    "    #idxmax = np.arange(start=simularities[0], stop = simularities[5] , step=1)\n",
    "    return df_percalorie.iloc[result]\n",
    "if __name__ == \"__main__\":\n",
    "    term = \"BUTTER,WITH SALT\"\n",
    "    term1 = \"choclate cooies mnt\"\n",
    "    print(similar_items(term)[\"Shrt_Desc\"])"
   ]
  },
  {
   "cell_type": "code",
   "execution_count": null,
   "metadata": {},
   "outputs": [],
   "source": []
  }
 ],
 "metadata": {
  "kernelspec": {
   "display_name": "ml_hw",
   "language": "python",
   "name": "ml_hw"
  },
  "language_info": {
   "codemirror_mode": {
    "name": "ipython",
    "version": 3
   },
   "file_extension": ".py",
   "mimetype": "text/x-python",
   "name": "python",
   "nbconvert_exporter": "python",
   "pygments_lexer": "ipython3",
   "version": "3.7.6"
  }
 },
 "nbformat": 4,
 "nbformat_minor": 4
}
